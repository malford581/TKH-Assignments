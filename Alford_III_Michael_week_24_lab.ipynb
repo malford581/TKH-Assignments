{
 "cells": [
  {
   "cell_type": "markdown",
   "metadata": {},
   "source": [
    "<div style=\"background: #000;\n",
    "            color: #FFF;\n",
    "            margin: 0px;\n",
    "            padding: 10px 0px 20px 0px;\n",
    "            text-align: center; \n",
    "                \">\n",
    "    <h1>Week 24 Lab</h1>\n",
    "</div>\n"
   ]
  },
  {
   "cell_type": "code",
   "execution_count": 82,
   "metadata": {},
   "outputs": [],
   "source": [
    "import pandas as pd\n",
    "import numpy as np\n",
    "import matplotlib.pyplot as plt"
   ]
  },
  {
   "cell_type": "markdown",
   "metadata": {},
   "source": [
    "## Part 1 - Python Problems\n",
    "<hr>"
   ]
  },
  {
   "cell_type": "markdown",
   "metadata": {},
   "source": [
    "### Exercise 1\n",
    "\n",
    "Create a function that takes a list of integers and calculates the mean. Use the following formula for calculating averages and not any `mean`/`average` method.\n",
    "\n",
    "$$ \\mu = {\\frac {1}{n}}\\sum _{i=1}^{n}a_{i}={\\frac {a_{1}+a_{2}+\\cdots +a_{n}}{n}}$$"
   ]
  },
  {
   "cell_type": "code",
   "execution_count": 83,
   "metadata": {},
   "outputs": [
    {
     "data": {
      "text/plain": [
       "5.0"
      ]
     },
     "execution_count": 83,
     "metadata": {},
     "output_type": "execute_result"
    }
   ],
   "source": [
    "example_list = [1,2,3,4,5,6,7,8,9]\n",
    "\n",
    "def solution(example_list):\n",
    "    num = np.array(example_list).mean()\n",
    "    return num\n",
    "\n",
    "solution(example_list)"
   ]
  },
  {
   "cell_type": "markdown",
   "metadata": {},
   "source": [
    "### Exercise 2\n",
    "\n",
    "Create a class that operates like a stack.  "
   ]
  },
  {
   "cell_type": "code",
   "execution_count": 84,
   "metadata": {},
   "outputs": [
    {
     "name": "stdout",
     "output_type": "stream",
     "text": [
      "['a', 'b', 'c']\n",
      "['a', 'b']\n"
     ]
    }
   ],
   "source": [
    "class Stack:\n",
    "    def __init__(self):\n",
    "        self.inserts = []\n",
    "\n",
    "    def push(self, inserts):\n",
    "        self.inserts.append(inserts)\n",
    "        \n",
    "    def pop(self):\n",
    "        self.inserts.pop()\n",
    "\n",
    "test = Stack()\n",
    "test.push('a')\n",
    "test.push('b')\n",
    "test.push('c')\n",
    "print(test.inserts)\n",
    "test.pop()\n",
    "print(test.inserts)"
   ]
  },
  {
   "cell_type": "markdown",
   "metadata": {},
   "source": [
    "### Exercise 3\n",
    "\n",
    "Write a generator function which returns a few values and then use it to retrieve a value using `next` (the global function). "
   ]
  },
  {
   "cell_type": "code",
   "execution_count": 85,
   "metadata": {},
   "outputs": [
    {
     "name": "stdout",
     "output_type": "stream",
     "text": [
      "0\n",
      "1\n",
      "3\n"
     ]
    }
   ],
   "source": [
    "def generator():\n",
    "    out = 0\n",
    "    yield out\n",
    "\n",
    "    out += 1\n",
    "    yield out\n",
    "\n",
    "    out += 2\n",
    "    yield out\n",
    "    \n",
    "for item in generator():\n",
    "    print(item)"
   ]
  },
  {
   "cell_type": "code",
   "execution_count": 86,
   "metadata": {},
   "outputs": [
    {
     "data": {
      "text/plain": [
       "0"
      ]
     },
     "execution_count": 86,
     "metadata": {},
     "output_type": "execute_result"
    }
   ],
   "source": [
    "x = generator()\n",
    "next(x)"
   ]
  },
  {
   "cell_type": "markdown",
   "metadata": {},
   "source": [
    "### Exercise 4\n",
    "\n",
    "Create a namedtuple `'Point'` that contains the points `x` and `y`."
   ]
  },
  {
   "cell_type": "code",
   "execution_count": 87,
   "metadata": {},
   "outputs": [],
   "source": [
    "from collections import namedtuple\n",
    "\n",
    "Point = namedtuple('Point', ['x', 'y'])"
   ]
  },
  {
   "cell_type": "code",
   "execution_count": 88,
   "metadata": {},
   "outputs": [],
   "source": [
    "a = Point(7,8)\n",
    "b = Point(9,10)"
   ]
  },
  {
   "cell_type": "code",
   "execution_count": 89,
   "metadata": {},
   "outputs": [
    {
     "name": "stdout",
     "output_type": "stream",
     "text": [
      "7 8\n",
      "Point(x=9, y=10)\n"
     ]
    }
   ],
   "source": [
    "print(a.x, a.y)\n",
    "print(b)"
   ]
  },
  {
   "cell_type": "markdown",
   "metadata": {},
   "source": [
    "### Exercise 5\n",
    "\n",
    "Create a moving average class that:\n",
    "* has a method `add` that is used to add new values\n",
    "* has a method `avg` that calculates the average of the 5 most recently added values\n",
    "* has an attribute `values` that contain all values added\n",
    "* has an attribute `window` that contains the 5 most recently added values"
   ]
  },
  {
   "cell_type": "code",
   "execution_count": 92,
   "metadata": {},
   "outputs": [
    {
     "name": "stdout",
     "output_type": "stream",
     "text": [
      "[20, 16, 234, 34, 28]\n",
      "[20, 16, 234, 34, 28]\n"
     ]
    },
    {
     "data": {
      "text/plain": [
       "66.4"
      ]
     },
     "execution_count": 92,
     "metadata": {},
     "output_type": "execute_result"
    }
   ],
   "source": [
    "class MovingAverage:\n",
    "    def __init__(self,values = [], window = []):\n",
    "        self.values = values\n",
    "        self.window = window\n",
    "        \n",
    "    def __add__(self,value):\n",
    "        self.values.append(value)\n",
    "        if len(self.values) >= 5:\n",
    "            self.window = self.values[-5:]\n",
    "        else:\n",
    "             self.window = self.values\n",
    "        \n",
    "    def __avg__(self):\n",
    "        if len(self.values) >= 5:\n",
    "            self.window = self.values[-5:]\n",
    "            return sum(self.window) / 5\n",
    "        return sum(self.values) / len(self.values)\n",
    "\n",
    "avg = MovingAverage()\n",
    "avg.__add__(20)\n",
    "avg.__add__(16)\n",
    "avg.__add__(234)\n",
    "avg.__add__(34)\n",
    "avg.__add__(28)\n",
    "print(avg.values)\n",
    "print(avg.window)\n",
    "avg.__avg__()"
   ]
  },
  {
   "cell_type": "markdown",
   "metadata": {},
   "source": [
    "## Part 2 - Numpy Problems\n",
    "<hr>"
   ]
  },
  {
   "cell_type": "markdown",
   "metadata": {},
   "source": [
    "### Exercise 1\n",
    "\n",
    "Using numpy, create an array that contains the values of $y$ for each of the $x$ values ranging from 0 to 100.\n",
    "\n",
    "$$ y = 12x+4  $$"
   ]
  },
  {
   "cell_type": "code",
   "execution_count": 93,
   "metadata": {},
   "outputs": [
    {
     "data": {
      "text/plain": [
       "array([  0,   1,   2,   3,   4,   5,   6,   7,   8,   9,  10,  11,  12,\n",
       "        13,  14,  15,  16,  17,  18,  19,  20,  21,  22,  23,  24,  25,\n",
       "        26,  27,  28,  29,  30,  31,  32,  33,  34,  35,  36,  37,  38,\n",
       "        39,  40,  41,  42,  43,  44,  45,  46,  47,  48,  49,  50,  51,\n",
       "        52,  53,  54,  55,  56,  57,  58,  59,  60,  61,  62,  63,  64,\n",
       "        65,  66,  67,  68,  69,  70,  71,  72,  73,  74,  75,  76,  77,\n",
       "        78,  79,  80,  81,  82,  83,  84,  85,  86,  87,  88,  89,  90,\n",
       "        91,  92,  93,  94,  95,  96,  97,  98,  99, 100])"
      ]
     },
     "execution_count": 93,
     "metadata": {},
     "output_type": "execute_result"
    }
   ],
   "source": [
    "x = np.arange(101)\n",
    "x"
   ]
  },
  {
   "cell_type": "code",
   "execution_count": 96,
   "metadata": {},
   "outputs": [
    {
     "name": "stdout",
     "output_type": "stream",
     "text": [
      "[   4   16   28   40   52   64   76   88  100  112  124  136  148  160\n",
      "  172  184  196  208  220  232  244  256  268  280  292  304  316  328\n",
      "  340  352  364  376  388  400  412  424  436  448  460  472  484  496\n",
      "  508  520  532  544  556  568  580  592  604  616  628  640  652  664\n",
      "  676  688  700  712  724  736  748  760  772  784  796  808  820  832\n",
      "  844  856  868  880  892  904  916  928  940  952  964  976  988 1000\n",
      " 1012 1024 1036 1048 1060 1072 1084 1096 1108 1120 1132 1144 1156 1168\n",
      " 1180 1192 1204]\n"
     ]
    }
   ],
   "source": [
    "y = 12*x+4\n",
    "print(y)"
   ]
  },
  {
   "cell_type": "markdown",
   "metadata": {},
   "source": [
    "### Exercise 2\n",
    "\n",
    "Create a 2-dimensional numpy array that contains the numbers from 1 to 20 with even numbers in the first column and odd numbers in the second."
   ]
  },
  {
   "cell_type": "code",
   "execution_count": 110,
   "metadata": {},
   "outputs": [
    {
     "data": {
      "text/plain": [
       "array([[ 1,  2],\n",
       "       [ 3,  4],\n",
       "       [ 5,  6],\n",
       "       [ 7,  8],\n",
       "       [ 9, 10],\n",
       "       [11, 12],\n",
       "       [13, 14],\n",
       "       [15, 16],\n",
       "       [17, 18],\n",
       "       [19, 20]])"
      ]
     },
     "execution_count": 110,
     "metadata": {},
     "output_type": "execute_result"
    }
   ],
   "source": [
    "arr = np.arange(1, 21).reshape(10, 2)\n",
    "arr"
   ]
  },
  {
   "cell_type": "markdown",
   "metadata": {},
   "source": [
    "### Exercise 3\n",
    "\n",
    "Create a numpy array with random numbers between 0 and 1."
   ]
  },
  {
   "cell_type": "code",
   "execution_count": 111,
   "metadata": {},
   "outputs": [
    {
     "data": {
      "text/plain": [
       "array([0.38422415, 0.15719019, 0.09704368, 0.55061524, 0.91590978,\n",
       "       0.29168893, 0.12239557, 0.70324051, 0.30348458, 0.46435232])"
      ]
     },
     "execution_count": 111,
     "metadata": {},
     "output_type": "execute_result"
    }
   ],
   "source": [
    "np.random.rand(10)"
   ]
  },
  {
   "cell_type": "markdown",
   "metadata": {},
   "source": [
    "### Exercise 4\n",
    "\n",
    "Create an array that contains 100 numbers. All of them between 0 and 5. Then add that to an array that contains the numbers from 0 to 99."
   ]
  },
  {
   "cell_type": "code",
   "execution_count": 112,
   "metadata": {},
   "outputs": [
    {
     "data": {
      "text/plain": [
       "array([0.        , 0.05050505, 0.1010101 , 0.15151515, 0.2020202 ,\n",
       "       0.25252525, 0.3030303 , 0.35353535, 0.4040404 , 0.45454545,\n",
       "       0.50505051, 0.55555556, 0.60606061, 0.65656566, 0.70707071,\n",
       "       0.75757576, 0.80808081, 0.85858586, 0.90909091, 0.95959596,\n",
       "       1.01010101, 1.06060606, 1.11111111, 1.16161616, 1.21212121,\n",
       "       1.26262626, 1.31313131, 1.36363636, 1.41414141, 1.46464646,\n",
       "       1.51515152, 1.56565657, 1.61616162, 1.66666667, 1.71717172,\n",
       "       1.76767677, 1.81818182, 1.86868687, 1.91919192, 1.96969697,\n",
       "       2.02020202, 2.07070707, 2.12121212, 2.17171717, 2.22222222,\n",
       "       2.27272727, 2.32323232, 2.37373737, 2.42424242, 2.47474747,\n",
       "       2.52525253, 2.57575758, 2.62626263, 2.67676768, 2.72727273,\n",
       "       2.77777778, 2.82828283, 2.87878788, 2.92929293, 2.97979798,\n",
       "       3.03030303, 3.08080808, 3.13131313, 3.18181818, 3.23232323,\n",
       "       3.28282828, 3.33333333, 3.38383838, 3.43434343, 3.48484848,\n",
       "       3.53535354, 3.58585859, 3.63636364, 3.68686869, 3.73737374,\n",
       "       3.78787879, 3.83838384, 3.88888889, 3.93939394, 3.98989899,\n",
       "       4.04040404, 4.09090909, 4.14141414, 4.19191919, 4.24242424,\n",
       "       4.29292929, 4.34343434, 4.39393939, 4.44444444, 4.49494949,\n",
       "       4.54545455, 4.5959596 , 4.64646465, 4.6969697 , 4.74747475,\n",
       "       4.7979798 , 4.84848485, 4.8989899 , 4.94949495, 5.        ])"
      ]
     },
     "execution_count": 112,
     "metadata": {},
     "output_type": "execute_result"
    }
   ],
   "source": [
    "x = np.linspace(0, 5, num=100)\n",
    "x"
   ]
  },
  {
   "cell_type": "code",
   "execution_count": 77,
   "metadata": {},
   "outputs": [
    {
     "data": {
      "text/plain": [
       "array([ 0,  1,  2,  3,  4,  5,  6,  7,  8,  9, 10, 11, 12, 13, 14, 15, 16,\n",
       "       17, 18, 19, 20, 21, 22, 23, 24, 25, 26, 27, 28, 29, 30, 31, 32, 33,\n",
       "       34, 35, 36, 37, 38, 39, 40, 41, 42, 43, 44, 45, 46, 47, 48, 49, 50,\n",
       "       51, 52, 53, 54, 55, 56, 57, 58, 59, 60, 61, 62, 63, 64, 65, 66, 67,\n",
       "       68, 69, 70, 71, 72, 73, 74, 75, 76, 77, 78, 79, 80, 81, 82, 83, 84,\n",
       "       85, 86, 87, 88, 89, 90, 91, 92, 93, 94, 95, 96, 97, 98, 99])"
      ]
     },
     "execution_count": 77,
     "metadata": {},
     "output_type": "execute_result"
    }
   ],
   "source": [
    "y = np.arange(100)\n",
    "y"
   ]
  },
  {
   "cell_type": "code",
   "execution_count": 78,
   "metadata": {},
   "outputs": [
    {
     "data": {
      "text/plain": [
       "array([  0.        ,   1.05050505,   2.1010101 ,   3.15151515,\n",
       "         4.2020202 ,   5.25252525,   6.3030303 ,   7.35353535,\n",
       "         8.4040404 ,   9.45454545,  10.50505051,  11.55555556,\n",
       "        12.60606061,  13.65656566,  14.70707071,  15.75757576,\n",
       "        16.80808081,  17.85858586,  18.90909091,  19.95959596,\n",
       "        21.01010101,  22.06060606,  23.11111111,  24.16161616,\n",
       "        25.21212121,  26.26262626,  27.31313131,  28.36363636,\n",
       "        29.41414141,  30.46464646,  31.51515152,  32.56565657,\n",
       "        33.61616162,  34.66666667,  35.71717172,  36.76767677,\n",
       "        37.81818182,  38.86868687,  39.91919192,  40.96969697,\n",
       "        42.02020202,  43.07070707,  44.12121212,  45.17171717,\n",
       "        46.22222222,  47.27272727,  48.32323232,  49.37373737,\n",
       "        50.42424242,  51.47474747,  52.52525253,  53.57575758,\n",
       "        54.62626263,  55.67676768,  56.72727273,  57.77777778,\n",
       "        58.82828283,  59.87878788,  60.92929293,  61.97979798,\n",
       "        63.03030303,  64.08080808,  65.13131313,  66.18181818,\n",
       "        67.23232323,  68.28282828,  69.33333333,  70.38383838,\n",
       "        71.43434343,  72.48484848,  73.53535354,  74.58585859,\n",
       "        75.63636364,  76.68686869,  77.73737374,  78.78787879,\n",
       "        79.83838384,  80.88888889,  81.93939394,  82.98989899,\n",
       "        84.04040404,  85.09090909,  86.14141414,  87.19191919,\n",
       "        88.24242424,  89.29292929,  90.34343434,  91.39393939,\n",
       "        92.44444444,  93.49494949,  94.54545455,  95.5959596 ,\n",
       "        96.64646465,  97.6969697 ,  98.74747475,  99.7979798 ,\n",
       "       100.84848485, 101.8989899 , 102.94949495, 104.        ])"
      ]
     },
     "execution_count": 78,
     "metadata": {},
     "output_type": "execute_result"
    }
   ],
   "source": [
    "z = x + y\n",
    "z"
   ]
  },
  {
   "cell_type": "markdown",
   "metadata": {},
   "source": [
    "### Exercise 5\n",
    "\n",
    "Create a 10 by 10 matrix containing zeros. Then create a 10 by 10 matrix containing ones. Combine the two matrices so that the new dimensions are 20 by 10."
   ]
  },
  {
   "cell_type": "code",
   "execution_count": 79,
   "metadata": {},
   "outputs": [
    {
     "data": {
      "text/plain": [
       "array([[0., 0., 0., 0., 0., 0., 0., 0., 0., 0.],\n",
       "       [0., 0., 0., 0., 0., 0., 0., 0., 0., 0.],\n",
       "       [0., 0., 0., 0., 0., 0., 0., 0., 0., 0.],\n",
       "       [0., 0., 0., 0., 0., 0., 0., 0., 0., 0.],\n",
       "       [0., 0., 0., 0., 0., 0., 0., 0., 0., 0.],\n",
       "       [0., 0., 0., 0., 0., 0., 0., 0., 0., 0.],\n",
       "       [0., 0., 0., 0., 0., 0., 0., 0., 0., 0.],\n",
       "       [0., 0., 0., 0., 0., 0., 0., 0., 0., 0.],\n",
       "       [0., 0., 0., 0., 0., 0., 0., 0., 0., 0.],\n",
       "       [0., 0., 0., 0., 0., 0., 0., 0., 0., 0.]])"
      ]
     },
     "execution_count": 79,
     "metadata": {},
     "output_type": "execute_result"
    }
   ],
   "source": [
    "x = np.zeros((10,10))\n",
    "x"
   ]
  },
  {
   "cell_type": "code",
   "execution_count": 80,
   "metadata": {},
   "outputs": [
    {
     "data": {
      "text/plain": [
       "array([[1., 1., 1., 1., 1., 1., 1., 1., 1., 1.],\n",
       "       [1., 1., 1., 1., 1., 1., 1., 1., 1., 1.],\n",
       "       [1., 1., 1., 1., 1., 1., 1., 1., 1., 1.],\n",
       "       [1., 1., 1., 1., 1., 1., 1., 1., 1., 1.],\n",
       "       [1., 1., 1., 1., 1., 1., 1., 1., 1., 1.],\n",
       "       [1., 1., 1., 1., 1., 1., 1., 1., 1., 1.],\n",
       "       [1., 1., 1., 1., 1., 1., 1., 1., 1., 1.],\n",
       "       [1., 1., 1., 1., 1., 1., 1., 1., 1., 1.],\n",
       "       [1., 1., 1., 1., 1., 1., 1., 1., 1., 1.],\n",
       "       [1., 1., 1., 1., 1., 1., 1., 1., 1., 1.]])"
      ]
     },
     "execution_count": 80,
     "metadata": {},
     "output_type": "execute_result"
    }
   ],
   "source": [
    "y = np.ones((10,10))\n",
    "y"
   ]
  },
  {
   "cell_type": "code",
   "execution_count": 81,
   "metadata": {},
   "outputs": [
    {
     "data": {
      "text/plain": [
       "array([[0., 0., 0., 0., 0., 0., 0., 0., 0., 0.],\n",
       "       [0., 0., 0., 0., 0., 0., 0., 0., 0., 0.],\n",
       "       [0., 0., 0., 0., 0., 0., 0., 0., 0., 0.],\n",
       "       [0., 0., 0., 0., 0., 0., 0., 0., 0., 0.],\n",
       "       [0., 0., 0., 0., 0., 0., 0., 0., 0., 0.],\n",
       "       [0., 0., 0., 0., 0., 0., 0., 0., 0., 0.],\n",
       "       [0., 0., 0., 0., 0., 0., 0., 0., 0., 0.],\n",
       "       [0., 0., 0., 0., 0., 0., 0., 0., 0., 0.],\n",
       "       [0., 0., 0., 0., 0., 0., 0., 0., 0., 0.],\n",
       "       [0., 0., 0., 0., 0., 0., 0., 0., 0., 0.],\n",
       "       [1., 1., 1., 1., 1., 1., 1., 1., 1., 1.],\n",
       "       [1., 1., 1., 1., 1., 1., 1., 1., 1., 1.],\n",
       "       [1., 1., 1., 1., 1., 1., 1., 1., 1., 1.],\n",
       "       [1., 1., 1., 1., 1., 1., 1., 1., 1., 1.],\n",
       "       [1., 1., 1., 1., 1., 1., 1., 1., 1., 1.],\n",
       "       [1., 1., 1., 1., 1., 1., 1., 1., 1., 1.],\n",
       "       [1., 1., 1., 1., 1., 1., 1., 1., 1., 1.],\n",
       "       [1., 1., 1., 1., 1., 1., 1., 1., 1., 1.],\n",
       "       [1., 1., 1., 1., 1., 1., 1., 1., 1., 1.],\n",
       "       [1., 1., 1., 1., 1., 1., 1., 1., 1., 1.]])"
      ]
     },
     "execution_count": 81,
     "metadata": {},
     "output_type": "execute_result"
    }
   ],
   "source": [
    "z = np.concatenate((x, y))\n",
    "z "
   ]
  },
  {
   "cell_type": "markdown",
   "metadata": {},
   "source": [
    "### Exercise 6\n",
    "\n",
    "Given the following numpy array, find the cumulative sum along the rows. Then find the cumulative sum along the columns. Then output the 2nd (1st index) column but only the first 10 rows. You should get a very recognizable pattern."
   ]
  },
  {
   "cell_type": "code",
   "execution_count": 116,
   "metadata": {},
   "outputs": [
    {
     "name": "stdout",
     "output_type": "stream",
     "text": [
      "[[ 0  1  2  3  4  5  6  7  8  9 10]\n",
      " [ 1  2  3  4  5  6  7  8  9 10  0]\n",
      " [ 2  3  4  5  6  7  8  9 10  0  1]\n",
      " [ 3  4  5  6  7  8  9 10  0  1  2]\n",
      " [ 4  5  6  7  8  9 10  0  1  2  3]\n",
      " [ 5  6  7  8  9 10  0  1  2  3  4]\n",
      " [ 6  7  8  9 10  0  1  2  3  4  5]\n",
      " [ 7  8  9 10  0  1  2  3  4  5  6]\n",
      " [ 8  9 10  0  1  2  3  4  5  6  7]\n",
      " [ 9 10  0  1  2  3  4  5  6  7  8]\n",
      " [10  0  1  2  3  4  5  6  7  8  9]]\n",
      "[[ 0  1  3  6 10 15 21 28 36 45 55]\n",
      " [ 1  3  6 10 15 21 28 36 45 55 55]\n",
      " [ 2  5  9 14 20 27 35 44 54 54 55]\n",
      " [ 3  7 12 18 25 33 42 52 52 53 55]\n",
      " [ 4  9 15 22 30 39 49 49 50 52 55]\n",
      " [ 5 11 18 26 35 45 45 46 48 51 55]\n",
      " [ 6 13 21 30 40 40 41 43 46 50 55]\n",
      " [ 7 15 24 34 34 35 37 40 44 49 55]\n",
      " [ 8 17 27 27 28 30 33 37 42 48 55]\n",
      " [ 9 19 19 20 22 25 29 34 40 47 55]\n",
      " [10 10 11 13 16 20 25 31 38 46 55]]\n",
      "[[  0   1   3   6  10  15  21  28  36  45  55]\n",
      " [  1   4   9  16  25  36  49  64  81 100 110]\n",
      " [  3   9  18  30  45  63  84 108 135 154 165]\n",
      " [  6  16  30  48  70  96 126 160 187 207 220]\n",
      " [ 10  25  45  70 100 135 175 209 237 259 275]\n",
      " [ 15  36  63  96 135 180 220 255 285 310 330]\n",
      " [ 21  49  84 126 175 220 261 298 331 360 385]\n",
      " [ 28  64 108 160 209 255 298 338 375 409 440]\n",
      " [ 36  81 135 187 237 285 331 375 417 457 495]\n",
      " [ 45 100 154 207 259 310 360 409 457 504 550]\n",
      " [ 55 110 165 220 275 330 385 440 495 550 605]]\n"
     ]
    }
   ],
   "source": [
    "x = np.array([[0,1,2,3,4,5,6,7,8,9,10],[1,2,3,4,5,6,7,8,9,10,0], [2,3,4,5,6,7,8,9,10,0,1], [3,4,5,6,7,8,9,10,0,1,2],[4,5,6,7,8,9,10,0,1,2,3],[5,6,7,8,9,10,0,1,2,3,4],[6,7,8,9,10,0,1,2,3,4,5],[7,8,9,10,0,1,2,3,4,5,6],[8,9,10,0,1,2,3,4,5,6,7],[9,10,0,1,2,3,4,5,6,7,8],[10,0,1,2,3,4,5,6,7,8,9]])\n",
    "out = np.cumsum(x)\n",
    "print(x)\n",
    "out = np.cumsum(x,axis=1) \n",
    "print(out)\n",
    "out = np.cumsum(out,axis=0) \n",
    "print(out)"
   ]
  },
  {
   "cell_type": "code",
   "execution_count": 117,
   "metadata": {},
   "outputs": [
    {
     "data": {
      "text/plain": [
       "array([  1,   4,   9,  16,  25,  36,  49,  64,  81, 100])"
      ]
     },
     "execution_count": 117,
     "metadata": {},
     "output_type": "execute_result"
    }
   ],
   "source": [
    "out[:-1,1] "
   ]
  },
  {
   "cell_type": "markdown",
   "metadata": {},
   "source": [
    "### Exercise 7\n",
    "\n",
    "Using the following string. Turn it into a numpy array where all the letters are their own element."
   ]
  },
  {
   "cell_type": "code",
   "execution_count": 118,
   "metadata": {},
   "outputs": [
    {
     "data": {
      "text/plain": [
       "array(['L', 'i', 'f', 'e', \"'\", 's', ' ', 'G', 'o', 'o', 'd'], dtype='<U1')"
      ]
     },
     "execution_count": 118,
     "metadata": {},
     "output_type": "execute_result"
    }
   ],
   "source": [
    "x = \"Life's Good\"\n",
    "np.array(list(x))"
   ]
  },
  {
   "cell_type": "markdown",
   "metadata": {},
   "source": [
    "### Exercise 8\n",
    "\n",
    "How would we flatten the following array?"
   ]
  },
  {
   "cell_type": "code",
   "execution_count": 120,
   "metadata": {},
   "outputs": [
    {
     "data": {
      "text/plain": [
       "array([1., 0., 0., 0., 0., 0., 1., 0., 0., 0., 0., 0., 1., 0., 0., 0., 0.,\n",
       "       0., 1., 0., 0., 0., 0., 0., 1.])"
      ]
     },
     "execution_count": 120,
     "metadata": {},
     "output_type": "execute_result"
    }
   ],
   "source": [
    "x = np.eye(5)\n",
    "x.ravel()"
   ]
  },
  {
   "cell_type": "markdown",
   "metadata": {},
   "source": [
    "## Part 3 - Pandas Problems\n",
    "<hr>"
   ]
  },
  {
   "cell_type": "markdown",
   "metadata": {},
   "source": [
    "**1.** Create a dataframe using the following:"
   ]
  },
  {
   "cell_type": "code",
   "execution_count": 123,
   "metadata": {},
   "outputs": [
    {
     "data": {
      "text/html": [
       "<div>\n",
       "<style scoped>\n",
       "    .dataframe tbody tr th:only-of-type {\n",
       "        vertical-align: middle;\n",
       "    }\n",
       "\n",
       "    .dataframe tbody tr th {\n",
       "        vertical-align: top;\n",
       "    }\n",
       "\n",
       "    .dataframe thead th {\n",
       "        text-align: right;\n",
       "    }\n",
       "</style>\n",
       "<table border=\"1\" class=\"dataframe\">\n",
       "  <thead>\n",
       "    <tr style=\"text-align: right;\">\n",
       "      <th></th>\n",
       "      <th>0</th>\n",
       "      <th>1</th>\n",
       "    </tr>\n",
       "  </thead>\n",
       "  <tbody>\n",
       "    <tr>\n",
       "      <th>0</th>\n",
       "      <td>Red</td>\n",
       "      <td>4</td>\n",
       "    </tr>\n",
       "    <tr>\n",
       "      <th>1</th>\n",
       "      <td>Blue</td>\n",
       "      <td>6</td>\n",
       "    </tr>\n",
       "    <tr>\n",
       "      <th>2</th>\n",
       "      <td>Green</td>\n",
       "      <td>1</td>\n",
       "    </tr>\n",
       "    <tr>\n",
       "      <th>3</th>\n",
       "      <td>Yellow</td>\n",
       "      <td>5</td>\n",
       "    </tr>\n",
       "    <tr>\n",
       "      <th>4</th>\n",
       "      <td>White</td>\n",
       "      <td>3</td>\n",
       "    </tr>\n",
       "    <tr>\n",
       "      <th>5</th>\n",
       "      <td>Black</td>\n",
       "      <td>2</td>\n",
       "    </tr>\n",
       "  </tbody>\n",
       "</table>\n",
       "</div>"
      ],
      "text/plain": [
       "        0  1\n",
       "0     Red  4\n",
       "1    Blue  6\n",
       "2   Green  1\n",
       "3  Yellow  5\n",
       "4   White  3\n",
       "5   Black  2"
      ]
     },
     "execution_count": 123,
     "metadata": {},
     "output_type": "execute_result"
    }
   ],
   "source": [
    "lst = [['Red',4],['Blue',6],['Green',1],\\\n",
    "       ['Yellow',5],['White',3],['Black',2],]\n",
    "\n",
    "df = pd.DataFrame(lst)\n",
    "df"
   ]
  },
  {
   "cell_type": "markdown",
   "metadata": {},
   "source": [
    "**2.** Create a dataframe using the following:"
   ]
  },
  {
   "cell_type": "code",
   "execution_count": 130,
   "metadata": {},
   "outputs": [
    {
     "name": "stdout",
     "output_type": "stream",
     "text": [
      "         a    b\n",
      "color  NaN  NaN\n",
      "value  NaN  NaN \n",
      "\n"
     ]
    }
   ],
   "source": [
    "dct = {'red':4, 'blue':6, 'green':1, 'yellow':5, 'white':3, 'black':2}\n",
    "\n",
    "df = pd.DataFrame(dct, index = ['color', 'value'], columns = ['a', 'b'])\n",
    "print(df, \"\\n\")"
   ]
  },
  {
   "cell_type": "markdown",
   "metadata": {},
   "source": [
    "**The following exercises will use the dataset imported below:**\n"
   ]
  },
  {
   "cell_type": "code",
   "execution_count": 131,
   "metadata": {},
   "outputs": [
    {
     "data": {
      "text/html": [
       "<div>\n",
       "<style scoped>\n",
       "    .dataframe tbody tr th:only-of-type {\n",
       "        vertical-align: middle;\n",
       "    }\n",
       "\n",
       "    .dataframe tbody tr th {\n",
       "        vertical-align: top;\n",
       "    }\n",
       "\n",
       "    .dataframe thead th {\n",
       "        text-align: right;\n",
       "    }\n",
       "</style>\n",
       "<table border=\"1\" class=\"dataframe\">\n",
       "  <thead>\n",
       "    <tr style=\"text-align: right;\">\n",
       "      <th></th>\n",
       "      <th>year</th>\n",
       "      <th>make</th>\n",
       "      <th>model</th>\n",
       "      <th>number sold</th>\n",
       "      <th>price</th>\n",
       "      <th>revenue (in thousands)</th>\n",
       "    </tr>\n",
       "  </thead>\n",
       "  <tbody>\n",
       "    <tr>\n",
       "      <th>0</th>\n",
       "      <td>NaN</td>\n",
       "      <td>Toyota</td>\n",
       "      <td>Camry</td>\n",
       "      <td>336978.0</td>\n",
       "      <td>24765.0</td>\n",
       "      <td>NaN</td>\n",
       "    </tr>\n",
       "    <tr>\n",
       "      <th>1</th>\n",
       "      <td>2019.0</td>\n",
       "      <td>Toyota</td>\n",
       "      <td>Corolla</td>\n",
       "      <td>304850.0</td>\n",
       "      <td>NaN</td>\n",
       "      <td>4560556.00</td>\n",
       "    </tr>\n",
       "    <tr>\n",
       "      <th>2</th>\n",
       "      <td>2019.0</td>\n",
       "      <td>Toyota</td>\n",
       "      <td>Supra</td>\n",
       "      <td>NaN</td>\n",
       "      <td>35545.0</td>\n",
       "      <td>102511.78</td>\n",
       "    </tr>\n",
       "    <tr>\n",
       "      <th>3</th>\n",
       "      <td>2019.0</td>\n",
       "      <td>NaN</td>\n",
       "      <td>Avalon</td>\n",
       "      <td>NaN</td>\n",
       "      <td>36480.0</td>\n",
       "      <td>1012940.16</td>\n",
       "    </tr>\n",
       "  </tbody>\n",
       "</table>\n",
       "</div>"
      ],
      "text/plain": [
       "     year    make    model  number sold    price  revenue (in thousands)\n",
       "0     NaN  Toyota    Camry     336978.0  24765.0                     NaN\n",
       "1  2019.0  Toyota  Corolla     304850.0      NaN              4560556.00\n",
       "2  2019.0  Toyota    Supra          NaN  35545.0               102511.78\n",
       "3  2019.0     NaN   Avalon          NaN  36480.0              1012940.16"
      ]
     },
     "execution_count": 131,
     "metadata": {},
     "output_type": "execute_result"
    }
   ],
   "source": [
    "df = pd.DataFrame([[np.nan,'Toyota','Camry',336978, 24765,np.nan],[2019,'Toyota','Corolla',304850, np.nan,4560556],[2019,'Toyota','Supra',np.nan, 35545,102511.78],[2019,np.nan,'Avalon',np.nan ,36480,1012940.16]])\n",
    "df.columns = ['year', 'make', 'model', 'number sold', 'price', 'revenue (in thousands)']\n",
    "df"
   ]
  },
  {
   "cell_type": "markdown",
   "metadata": {},
   "source": [
    "### Exercise 4\n",
    "\n",
    "Fix the `year` column in the dataframe by replacing missing values with the average value of that column."
   ]
  },
  {
   "cell_type": "code",
   "execution_count": 132,
   "metadata": {},
   "outputs": [
    {
     "data": {
      "text/html": [
       "<div>\n",
       "<style scoped>\n",
       "    .dataframe tbody tr th:only-of-type {\n",
       "        vertical-align: middle;\n",
       "    }\n",
       "\n",
       "    .dataframe tbody tr th {\n",
       "        vertical-align: top;\n",
       "    }\n",
       "\n",
       "    .dataframe thead th {\n",
       "        text-align: right;\n",
       "    }\n",
       "</style>\n",
       "<table border=\"1\" class=\"dataframe\">\n",
       "  <thead>\n",
       "    <tr style=\"text-align: right;\">\n",
       "      <th></th>\n",
       "      <th>year</th>\n",
       "      <th>make</th>\n",
       "      <th>model</th>\n",
       "      <th>number sold</th>\n",
       "      <th>price</th>\n",
       "      <th>revenue (in thousands)</th>\n",
       "    </tr>\n",
       "  </thead>\n",
       "  <tbody>\n",
       "    <tr>\n",
       "      <th>0</th>\n",
       "      <td>2019.0</td>\n",
       "      <td>Toyota</td>\n",
       "      <td>Camry</td>\n",
       "      <td>336978.0</td>\n",
       "      <td>24765.0</td>\n",
       "      <td>NaN</td>\n",
       "    </tr>\n",
       "    <tr>\n",
       "      <th>1</th>\n",
       "      <td>2019.0</td>\n",
       "      <td>Toyota</td>\n",
       "      <td>Corolla</td>\n",
       "      <td>304850.0</td>\n",
       "      <td>NaN</td>\n",
       "      <td>4560556.00</td>\n",
       "    </tr>\n",
       "    <tr>\n",
       "      <th>2</th>\n",
       "      <td>2019.0</td>\n",
       "      <td>Toyota</td>\n",
       "      <td>Supra</td>\n",
       "      <td>NaN</td>\n",
       "      <td>35545.0</td>\n",
       "      <td>102511.78</td>\n",
       "    </tr>\n",
       "    <tr>\n",
       "      <th>3</th>\n",
       "      <td>2019.0</td>\n",
       "      <td>NaN</td>\n",
       "      <td>Avalon</td>\n",
       "      <td>NaN</td>\n",
       "      <td>36480.0</td>\n",
       "      <td>1012940.16</td>\n",
       "    </tr>\n",
       "  </tbody>\n",
       "</table>\n",
       "</div>"
      ],
      "text/plain": [
       "     year    make    model  number sold    price  revenue (in thousands)\n",
       "0  2019.0  Toyota    Camry     336978.0  24765.0                     NaN\n",
       "1  2019.0  Toyota  Corolla     304850.0      NaN              4560556.00\n",
       "2  2019.0  Toyota    Supra          NaN  35545.0               102511.78\n",
       "3  2019.0     NaN   Avalon          NaN  36480.0              1012940.16"
      ]
     },
     "execution_count": 132,
     "metadata": {},
     "output_type": "execute_result"
    }
   ],
   "source": [
    "df[\"year\"] = df[\"year\"].fillna(df[\"year\"].mean())\n",
    "df"
   ]
  },
  {
   "cell_type": "code",
   "execution_count": 133,
   "metadata": {},
   "outputs": [
    {
     "data": {
      "text/html": [
       "<div>\n",
       "<style scoped>\n",
       "    .dataframe tbody tr th:only-of-type {\n",
       "        vertical-align: middle;\n",
       "    }\n",
       "\n",
       "    .dataframe tbody tr th {\n",
       "        vertical-align: top;\n",
       "    }\n",
       "\n",
       "    .dataframe thead th {\n",
       "        text-align: right;\n",
       "    }\n",
       "</style>\n",
       "<table border=\"1\" class=\"dataframe\">\n",
       "  <thead>\n",
       "    <tr style=\"text-align: right;\">\n",
       "      <th></th>\n",
       "      <th>year</th>\n",
       "      <th>make</th>\n",
       "      <th>model</th>\n",
       "      <th>number sold</th>\n",
       "      <th>price</th>\n",
       "      <th>revenue (in thousands)</th>\n",
       "    </tr>\n",
       "  </thead>\n",
       "  <tbody>\n",
       "    <tr>\n",
       "      <th>0</th>\n",
       "      <td>2019</td>\n",
       "      <td>Toyota</td>\n",
       "      <td>Camry</td>\n",
       "      <td>336978.0</td>\n",
       "      <td>24765.0</td>\n",
       "      <td>NaN</td>\n",
       "    </tr>\n",
       "    <tr>\n",
       "      <th>1</th>\n",
       "      <td>2019</td>\n",
       "      <td>Toyota</td>\n",
       "      <td>Corolla</td>\n",
       "      <td>304850.0</td>\n",
       "      <td>NaN</td>\n",
       "      <td>4560556.00</td>\n",
       "    </tr>\n",
       "    <tr>\n",
       "      <th>2</th>\n",
       "      <td>2019</td>\n",
       "      <td>Toyota</td>\n",
       "      <td>Supra</td>\n",
       "      <td>NaN</td>\n",
       "      <td>35545.0</td>\n",
       "      <td>102511.78</td>\n",
       "    </tr>\n",
       "    <tr>\n",
       "      <th>3</th>\n",
       "      <td>2019</td>\n",
       "      <td>NaN</td>\n",
       "      <td>Avalon</td>\n",
       "      <td>NaN</td>\n",
       "      <td>36480.0</td>\n",
       "      <td>1012940.16</td>\n",
       "    </tr>\n",
       "  </tbody>\n",
       "</table>\n",
       "</div>"
      ],
      "text/plain": [
       "   year    make    model  number sold    price  revenue (in thousands)\n",
       "0  2019  Toyota    Camry     336978.0  24765.0                     NaN\n",
       "1  2019  Toyota  Corolla     304850.0      NaN              4560556.00\n",
       "2  2019  Toyota    Supra          NaN  35545.0               102511.78\n",
       "3  2019     NaN   Avalon          NaN  36480.0              1012940.16"
      ]
     },
     "execution_count": 133,
     "metadata": {},
     "output_type": "execute_result"
    }
   ],
   "source": [
    "df[\"year\"] = df[\"year\"].astype('int32')\n",
    "df"
   ]
  },
  {
   "cell_type": "markdown",
   "metadata": {},
   "source": [
    "### Exercise 5\n",
    "\n",
    "Fix the `'make'` column by replacing the missing value with the value that occurred most frequently (mode)."
   ]
  },
  {
   "cell_type": "code",
   "execution_count": 134,
   "metadata": {},
   "outputs": [
    {
     "data": {
      "text/html": [
       "<div>\n",
       "<style scoped>\n",
       "    .dataframe tbody tr th:only-of-type {\n",
       "        vertical-align: middle;\n",
       "    }\n",
       "\n",
       "    .dataframe tbody tr th {\n",
       "        vertical-align: top;\n",
       "    }\n",
       "\n",
       "    .dataframe thead th {\n",
       "        text-align: right;\n",
       "    }\n",
       "</style>\n",
       "<table border=\"1\" class=\"dataframe\">\n",
       "  <thead>\n",
       "    <tr style=\"text-align: right;\">\n",
       "      <th></th>\n",
       "      <th>year</th>\n",
       "      <th>make</th>\n",
       "      <th>model</th>\n",
       "      <th>number sold</th>\n",
       "      <th>price</th>\n",
       "      <th>revenue (in thousands)</th>\n",
       "    </tr>\n",
       "  </thead>\n",
       "  <tbody>\n",
       "    <tr>\n",
       "      <th>0</th>\n",
       "      <td>2019</td>\n",
       "      <td>Toyota</td>\n",
       "      <td>Camry</td>\n",
       "      <td>336978.0</td>\n",
       "      <td>24765.0</td>\n",
       "      <td>NaN</td>\n",
       "    </tr>\n",
       "    <tr>\n",
       "      <th>1</th>\n",
       "      <td>2019</td>\n",
       "      <td>Toyota</td>\n",
       "      <td>Corolla</td>\n",
       "      <td>304850.0</td>\n",
       "      <td>NaN</td>\n",
       "      <td>4560556.00</td>\n",
       "    </tr>\n",
       "    <tr>\n",
       "      <th>2</th>\n",
       "      <td>2019</td>\n",
       "      <td>Toyota</td>\n",
       "      <td>Supra</td>\n",
       "      <td>NaN</td>\n",
       "      <td>35545.0</td>\n",
       "      <td>102511.78</td>\n",
       "    </tr>\n",
       "    <tr>\n",
       "      <th>3</th>\n",
       "      <td>2019</td>\n",
       "      <td>Toyota</td>\n",
       "      <td>Avalon</td>\n",
       "      <td>NaN</td>\n",
       "      <td>36480.0</td>\n",
       "      <td>1012940.16</td>\n",
       "    </tr>\n",
       "  </tbody>\n",
       "</table>\n",
       "</div>"
      ],
      "text/plain": [
       "   year    make    model  number sold    price  revenue (in thousands)\n",
       "0  2019  Toyota    Camry     336978.0  24765.0                     NaN\n",
       "1  2019  Toyota  Corolla     304850.0      NaN              4560556.00\n",
       "2  2019  Toyota    Supra          NaN  35545.0               102511.78\n",
       "3  2019  Toyota   Avalon          NaN  36480.0              1012940.16"
      ]
     },
     "execution_count": 134,
     "metadata": {},
     "output_type": "execute_result"
    }
   ],
   "source": [
    "x = df[\"make\"].mode()[0]\n",
    "df[\"make\"].fillna(x, inplace = True)\n",
    "df"
   ]
  },
  {
   "cell_type": "markdown",
   "metadata": {},
   "source": [
    "### Exercise 6\n",
    "\n",
    "Fix the `'revenue (in thousands)'` column by calculating the approximate revenue. Remember that the value of `'revenue'` is in the 1000s.\n",
    "\n",
    "$$ \\textrm{revenue} = \\textrm{number sold} * \\textrm{price} $$"
   ]
  },
  {
   "cell_type": "code",
   "execution_count": 135,
   "metadata": {},
   "outputs": [
    {
     "data": {
      "text/html": [
       "<div>\n",
       "<style scoped>\n",
       "    .dataframe tbody tr th:only-of-type {\n",
       "        vertical-align: middle;\n",
       "    }\n",
       "\n",
       "    .dataframe tbody tr th {\n",
       "        vertical-align: top;\n",
       "    }\n",
       "\n",
       "    .dataframe thead th {\n",
       "        text-align: right;\n",
       "    }\n",
       "</style>\n",
       "<table border=\"1\" class=\"dataframe\">\n",
       "  <thead>\n",
       "    <tr style=\"text-align: right;\">\n",
       "      <th></th>\n",
       "      <th>year</th>\n",
       "      <th>make</th>\n",
       "      <th>model</th>\n",
       "      <th>number sold</th>\n",
       "      <th>price</th>\n",
       "      <th>revenue (in thousands)</th>\n",
       "    </tr>\n",
       "  </thead>\n",
       "  <tbody>\n",
       "    <tr>\n",
       "      <th>0</th>\n",
       "      <td>2019</td>\n",
       "      <td>Toyota</td>\n",
       "      <td>Camry</td>\n",
       "      <td>336978.0</td>\n",
       "      <td>24765.0</td>\n",
       "      <td>8345260.17</td>\n",
       "    </tr>\n",
       "    <tr>\n",
       "      <th>1</th>\n",
       "      <td>2019</td>\n",
       "      <td>Toyota</td>\n",
       "      <td>Corolla</td>\n",
       "      <td>304850.0</td>\n",
       "      <td>NaN</td>\n",
       "      <td>4560556.00</td>\n",
       "    </tr>\n",
       "    <tr>\n",
       "      <th>2</th>\n",
       "      <td>2019</td>\n",
       "      <td>Toyota</td>\n",
       "      <td>Supra</td>\n",
       "      <td>NaN</td>\n",
       "      <td>35545.0</td>\n",
       "      <td>102511.78</td>\n",
       "    </tr>\n",
       "    <tr>\n",
       "      <th>3</th>\n",
       "      <td>2019</td>\n",
       "      <td>Toyota</td>\n",
       "      <td>Avalon</td>\n",
       "      <td>NaN</td>\n",
       "      <td>36480.0</td>\n",
       "      <td>1012940.16</td>\n",
       "    </tr>\n",
       "  </tbody>\n",
       "</table>\n",
       "</div>"
      ],
      "text/plain": [
       "   year    make    model  number sold    price  revenue (in thousands)\n",
       "0  2019  Toyota    Camry     336978.0  24765.0              8345260.17\n",
       "1  2019  Toyota  Corolla     304850.0      NaN              4560556.00\n",
       "2  2019  Toyota    Supra          NaN  35545.0               102511.78\n",
       "3  2019  Toyota   Avalon          NaN  36480.0              1012940.16"
      ]
     },
     "execution_count": 135,
     "metadata": {},
     "output_type": "execute_result"
    }
   ],
   "source": [
    "df[\"revenue (in thousands)\"] = df[\"revenue (in thousands)\"].fillna((df[\"number sold\"]*df[\"price\"])/1000)\n",
    "df"
   ]
  },
  {
   "cell_type": "markdown",
   "metadata": {},
   "source": [
    "### Exercise 7\n",
    "\n",
    "Fix the `'price'` column by calculating the approximate price.\n",
    "\n",
    "$$ \\textrm{price} = \\frac{\\textrm{revenue}}{\\textrm{number sold}} $$"
   ]
  },
  {
   "cell_type": "code",
   "execution_count": 136,
   "metadata": {},
   "outputs": [
    {
     "data": {
      "text/html": [
       "<div>\n",
       "<style scoped>\n",
       "    .dataframe tbody tr th:only-of-type {\n",
       "        vertical-align: middle;\n",
       "    }\n",
       "\n",
       "    .dataframe tbody tr th {\n",
       "        vertical-align: top;\n",
       "    }\n",
       "\n",
       "    .dataframe thead th {\n",
       "        text-align: right;\n",
       "    }\n",
       "</style>\n",
       "<table border=\"1\" class=\"dataframe\">\n",
       "  <thead>\n",
       "    <tr style=\"text-align: right;\">\n",
       "      <th></th>\n",
       "      <th>year</th>\n",
       "      <th>make</th>\n",
       "      <th>model</th>\n",
       "      <th>number sold</th>\n",
       "      <th>price</th>\n",
       "      <th>revenue (in thousands)</th>\n",
       "    </tr>\n",
       "  </thead>\n",
       "  <tbody>\n",
       "    <tr>\n",
       "      <th>0</th>\n",
       "      <td>2019</td>\n",
       "      <td>Toyota</td>\n",
       "      <td>Camry</td>\n",
       "      <td>336978.0</td>\n",
       "      <td>24765.0</td>\n",
       "      <td>8345260.17</td>\n",
       "    </tr>\n",
       "    <tr>\n",
       "      <th>1</th>\n",
       "      <td>2019</td>\n",
       "      <td>Toyota</td>\n",
       "      <td>Corolla</td>\n",
       "      <td>304850.0</td>\n",
       "      <td>14960.0</td>\n",
       "      <td>4560556.00</td>\n",
       "    </tr>\n",
       "    <tr>\n",
       "      <th>2</th>\n",
       "      <td>2019</td>\n",
       "      <td>Toyota</td>\n",
       "      <td>Supra</td>\n",
       "      <td>NaN</td>\n",
       "      <td>35545.0</td>\n",
       "      <td>102511.78</td>\n",
       "    </tr>\n",
       "    <tr>\n",
       "      <th>3</th>\n",
       "      <td>2019</td>\n",
       "      <td>Toyota</td>\n",
       "      <td>Avalon</td>\n",
       "      <td>NaN</td>\n",
       "      <td>36480.0</td>\n",
       "      <td>1012940.16</td>\n",
       "    </tr>\n",
       "  </tbody>\n",
       "</table>\n",
       "</div>"
      ],
      "text/plain": [
       "   year    make    model  number sold    price  revenue (in thousands)\n",
       "0  2019  Toyota    Camry     336978.0  24765.0              8345260.17\n",
       "1  2019  Toyota  Corolla     304850.0  14960.0              4560556.00\n",
       "2  2019  Toyota    Supra          NaN  35545.0               102511.78\n",
       "3  2019  Toyota   Avalon          NaN  36480.0              1012940.16"
      ]
     },
     "execution_count": 136,
     "metadata": {},
     "output_type": "execute_result"
    }
   ],
   "source": [
    "df[\"price\"] = df[\"price\"].fillna((df[\"revenue (in thousands)\"]*1000) / df[\"number sold\"])\n",
    "df"
   ]
  },
  {
   "cell_type": "markdown",
   "metadata": {},
   "source": [
    "### Exercise 8\n",
    "\n",
    "Fix the `'number sold'` column by calculating the approximate number of vehicles sold.\n",
    "\n",
    "$$ \\textrm{number sold} = \\frac{\\textrm{revenue}}{\\textrm{price}} $$"
   ]
  },
  {
   "cell_type": "code",
   "execution_count": 137,
   "metadata": {},
   "outputs": [
    {
     "data": {
      "text/html": [
       "<div>\n",
       "<style scoped>\n",
       "    .dataframe tbody tr th:only-of-type {\n",
       "        vertical-align: middle;\n",
       "    }\n",
       "\n",
       "    .dataframe tbody tr th {\n",
       "        vertical-align: top;\n",
       "    }\n",
       "\n",
       "    .dataframe thead th {\n",
       "        text-align: right;\n",
       "    }\n",
       "</style>\n",
       "<table border=\"1\" class=\"dataframe\">\n",
       "  <thead>\n",
       "    <tr style=\"text-align: right;\">\n",
       "      <th></th>\n",
       "      <th>year</th>\n",
       "      <th>make</th>\n",
       "      <th>model</th>\n",
       "      <th>number sold</th>\n",
       "      <th>price</th>\n",
       "      <th>revenue (in thousands)</th>\n",
       "    </tr>\n",
       "  </thead>\n",
       "  <tbody>\n",
       "    <tr>\n",
       "      <th>0</th>\n",
       "      <td>2019</td>\n",
       "      <td>Toyota</td>\n",
       "      <td>Camry</td>\n",
       "      <td>336978.0</td>\n",
       "      <td>24765.0</td>\n",
       "      <td>8345260.17</td>\n",
       "    </tr>\n",
       "    <tr>\n",
       "      <th>1</th>\n",
       "      <td>2019</td>\n",
       "      <td>Toyota</td>\n",
       "      <td>Corolla</td>\n",
       "      <td>304850.0</td>\n",
       "      <td>14960.0</td>\n",
       "      <td>4560556.00</td>\n",
       "    </tr>\n",
       "    <tr>\n",
       "      <th>2</th>\n",
       "      <td>2019</td>\n",
       "      <td>Toyota</td>\n",
       "      <td>Supra</td>\n",
       "      <td>2884.0</td>\n",
       "      <td>35545.0</td>\n",
       "      <td>102511.78</td>\n",
       "    </tr>\n",
       "    <tr>\n",
       "      <th>3</th>\n",
       "      <td>2019</td>\n",
       "      <td>Toyota</td>\n",
       "      <td>Avalon</td>\n",
       "      <td>27767.0</td>\n",
       "      <td>36480.0</td>\n",
       "      <td>1012940.16</td>\n",
       "    </tr>\n",
       "  </tbody>\n",
       "</table>\n",
       "</div>"
      ],
      "text/plain": [
       "   year    make    model  number sold    price  revenue (in thousands)\n",
       "0  2019  Toyota    Camry     336978.0  24765.0              8345260.17\n",
       "1  2019  Toyota  Corolla     304850.0  14960.0              4560556.00\n",
       "2  2019  Toyota    Supra       2884.0  35545.0               102511.78\n",
       "3  2019  Toyota   Avalon      27767.0  36480.0              1012940.16"
      ]
     },
     "execution_count": 137,
     "metadata": {},
     "output_type": "execute_result"
    }
   ],
   "source": [
    "df['number sold']= df['number sold'].fillna((df['revenue (in thousands)']*1000) / df['price'])\n",
    "df"
   ]
  }
 ],
 "metadata": {
  "kernelspec": {
   "display_name": "Python 3",
   "language": "python",
   "name": "python3"
  },
  "language_info": {
   "codemirror_mode": {
    "name": "ipython",
    "version": 3
   },
   "file_extension": ".py",
   "mimetype": "text/x-python",
   "name": "python",
   "nbconvert_exporter": "python",
   "pygments_lexer": "ipython3",
   "version": "3.8.3"
  }
 },
 "nbformat": 4,
 "nbformat_minor": 5
}
