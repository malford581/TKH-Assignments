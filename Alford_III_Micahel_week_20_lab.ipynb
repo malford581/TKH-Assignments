{
 "cells": [
  {
   "cell_type": "markdown",
   "metadata": {},
   "source": [
    "<div style=\"background: #000;\n",
    "            color: #FFF;\n",
    "            margin: 0px;\n",
    "            padding: 10px 0px 20px 0px;\n",
    "            text-align: center; \n",
    "                \">\n",
    "    <h1 >Week 20 Lab</h1>\n",
    "</div>"
   ]
  },
  {
   "cell_type": "markdown",
   "metadata": {},
   "source": [
    "# Part 1\n",
    "\n",
    "For part one, we're going to be using the following code:\n",
    "\n",
    "(reference week-19 for help with this)"
   ]
  },
  {
   "cell_type": "code",
   "execution_count": 2,
   "metadata": {},
   "outputs": [],
   "source": [
    "# our sql script\n",
    "\n",
    "import sqlite3\n",
    "from contextlib import closing\n",
    "\n",
    "db = 'week-20-lab.db'\n",
    "\n",
    "def connection(db_name=None):\n",
    "    conn = None\n",
    "    try:\n",
    "        db_name = db_name or ':memory:'\n",
    "        conn = sqlite3.connect(db_name)\n",
    "        return conn\n",
    "    except Exception as e:\n",
    "        print(e)\n",
    "\n",
    "def execute(db, cmd, commit=False):\n",
    "    with closing(connection(db)) as conn:\n",
    "        with closing(conn.cursor()) as cursor:\n",
    "            try:\n",
    "                cur = cursor.execute(cmd).fetchall()\n",
    "                if commit:\n",
    "                    conn.commit()\n",
    "                else:\n",
    "                    return cur\n",
    "            except Exception as e:\n",
    "                print(e)    \n",
    "                \n",
    "def get_tables(db):\n",
    "    rows = execute(db, \"SELECT name from sqlite_master where type='table';\")\n",
    "    return [i[0] for i in rows]\n",
    "\n",
    "def get_cols(db, table):\n",
    "    return execute(db, f\"pragma table_info({table});\")"
   ]
  },
  {
   "cell_type": "markdown",
   "metadata": {},
   "source": [
    "a. Create a table called 'students' with the following columns:\n",
    "* first_name (string)\n",
    "* last_name (string)\n",
    "* course (string)"
   ]
  },
  {
   "cell_type": "code",
   "execution_count": 52,
   "metadata": {},
   "outputs": [],
   "source": [
    "db = 'week-20-lab.db'\n",
    "\n",
    "execute(db, 'CREATE TABLE students\\\n",
    "            (id INTEGER PRIMARY KEY, \\\n",
    "             first_name VARCHAR(20) NOT NULL, \\\n",
    "             last_name VARCHAR(20) NOT NULL, \\\n",
    "             course VARCHAR(20) NOT NULL);',\\\n",
    "        commit=True)"
   ]
  },
  {
   "cell_type": "code",
   "execution_count": 53,
   "metadata": {},
   "outputs": [
    {
     "data": {
      "text/plain": [
       "['students']"
      ]
     },
     "execution_count": 53,
     "metadata": {},
     "output_type": "execute_result"
    }
   ],
   "source": [
    "get_tables(db)"
   ]
  },
  {
   "cell_type": "code",
   "execution_count": 54,
   "metadata": {
    "scrolled": true
   },
   "outputs": [
    {
     "data": {
      "text/plain": [
       "[(0, 'id', 'INTEGER', 0, None, 1),\n",
       " (1, 'first_name', 'VARCHAR(20)', 1, None, 0),\n",
       " (2, 'last_name', 'VARCHAR(20)', 1, None, 0),\n",
       " (3, 'course', 'VARCHAR(20)', 1, None, 0)]"
      ]
     },
     "execution_count": 54,
     "metadata": {},
     "output_type": "execute_result"
    }
   ],
   "source": [
    "get_cols(db, 'students')\n"
   ]
  },
  {
   "cell_type": "markdown",
   "metadata": {},
   "source": [
    "b. Add 30 students to your table. 15 of them taking the course 'progressive web' and 15 taking 'data science'. "
   ]
  },
  {
   "cell_type": "code",
   "execution_count": 55,
   "metadata": {},
   "outputs": [],
   "source": [
    "val = [\n",
    "    ('Micah', 'Schaefer', 'Progressive Web'),\n",
    "    ('Kaitlyn', 'Dennis', 'Data Science'),\n",
    "    ('Tristin', 'Gibson', 'Progressive Web'),\n",
    "    ('Danny', 'Holland', 'Data Science'),\n",
    "    ('Madelyn', 'Marquez', 'Progressive Web'),\n",
    "    ('Coleman', 'Berger', 'Data Science'),\n",
    "    ('Cole', 'Frederick', 'Progressive Web'),\n",
    "    ('Kendrick', 'Parsons', 'Data Science'),\n",
    "    ('Rosemary', 'Rocha', 'Progressive Web'),\n",
    "    ('Beatrice', 'Nelson', 'Data Science'),\n",
    "    ('Max', 'York', 'Progressive Web'),\n",
    "    ('Nathalie', 'Pitts', 'Data Science'),\n",
    "    ('Taylor', 'Sutton', 'Progressive Web'),\n",
    "    ('Camila', 'Macdonald', 'Data Science'),\n",
    "    ('Carlie', 'Hickman', 'Progressive Web'),\n",
    "    ('Alivia', 'Mcbride', 'Data Science'),\n",
    "    ('Anabelle', 'Austin', 'Progressive Web'),\n",
    "    ('Londyn', 'Jacobson', 'Data Science'),\n",
    "    ('Reuben', 'Hicks', 'Progressive Web'),\n",
    "    ('Devan', 'Everett', 'Data Science'),\n",
    "    ('Devan', 'Everett', 'Progressive Web'),\n",
    "    ('Tianna', 'Ellison', 'Data Science'),\n",
    "    ('Kaylynn', 'Castillo', 'Progressive Web'),\n",
    "    ('Nolan', 'Scott', 'Data Science'),\n",
    "    ('Nolan', 'Scott', 'Progressive Web'),\n",
    "    ('Tessa', 'Villanueva', 'Data Science'),\n",
    "    ('Edgar', 'Riggs', 'Progressive Web'),\n",
    "    ('Esther', 'Garrison', 'Data Science'),\n",
    "    ('Kamron', 'Frye', 'Progressive Web'),\n",
    "    ('Devin', 'Peters', 'Data Science'),\n",
    "]"
   ]
  },
  {
   "cell_type": "code",
   "execution_count": 56,
   "metadata": {},
   "outputs": [
    {
     "data": {
      "text/plain": [
       "<sqlite3.Cursor at 0x7fbea2b8d110>"
      ]
     },
     "execution_count": 56,
     "metadata": {},
     "output_type": "execute_result"
    }
   ],
   "source": [
    "con = sqlite3.connect(\"week-20-lab.db\")\n",
    "con.executemany(\"INSERT INTO students(first_name, last_name, course) values (?,?,?)\", val)"
   ]
  },
  {
   "cell_type": "code",
   "execution_count": 57,
   "metadata": {},
   "outputs": [],
   "source": [
    "con.commit()"
   ]
  },
  {
   "cell_type": "markdown",
   "metadata": {},
   "source": [
    "c. One of the students from the data science course got hired! Show the SQL command that will remove this student from the table and then remove them. "
   ]
  },
  {
   "cell_type": "code",
   "execution_count": 58,
   "metadata": {},
   "outputs": [],
   "source": [
    "execute(db, \"DELETE FROM students WHERE id = 28;\", \\\n",
    "       commit=True)"
   ]
  },
  {
   "cell_type": "code",
   "execution_count": 59,
   "metadata": {},
   "outputs": [
    {
     "data": {
      "text/plain": [
       "[(1, 'Micah', 'Schaefer', 'Progressive Web'),\n",
       " (2, 'Kaitlyn', 'Dennis', 'Data Science'),\n",
       " (3, 'Tristin', 'Gibson', 'Progressive Web'),\n",
       " (4, 'Danny', 'Holland', 'Data Science'),\n",
       " (5, 'Madelyn', 'Marquez', 'Progressive Web'),\n",
       " (6, 'Coleman', 'Berger', 'Data Science'),\n",
       " (7, 'Cole', 'Frederick', 'Progressive Web'),\n",
       " (8, 'Kendrick', 'Parsons', 'Data Science'),\n",
       " (9, 'Rosemary', 'Rocha', 'Progressive Web'),\n",
       " (10, 'Beatrice', 'Nelson', 'Data Science'),\n",
       " (11, 'Max', 'York', 'Progressive Web'),\n",
       " (12, 'Nathalie', 'Pitts', 'Data Science'),\n",
       " (13, 'Taylor', 'Sutton', 'Progressive Web'),\n",
       " (14, 'Camila', 'Macdonald', 'Data Science'),\n",
       " (15, 'Carlie', 'Hickman', 'Progressive Web'),\n",
       " (16, 'Alivia', 'Mcbride', 'Data Science'),\n",
       " (17, 'Anabelle', 'Austin', 'Progressive Web'),\n",
       " (18, 'Londyn', 'Jacobson', 'Data Science'),\n",
       " (19, 'Reuben', 'Hicks', 'Progressive Web'),\n",
       " (20, 'Devan', 'Everett', 'Data Science'),\n",
       " (21, 'Devan', 'Everett', 'Progressive Web'),\n",
       " (22, 'Tianna', 'Ellison', 'Data Science'),\n",
       " (23, 'Kaylynn', 'Castillo', 'Progressive Web'),\n",
       " (24, 'Nolan', 'Scott', 'Data Science'),\n",
       " (25, 'Nolan', 'Scott', 'Progressive Web'),\n",
       " (26, 'Tessa', 'Villanueva', 'Data Science'),\n",
       " (27, 'Edgar', 'Riggs', 'Progressive Web'),\n",
       " (29, 'Kamron', 'Frye', 'Progressive Web'),\n",
       " (30, 'Devin', 'Peters', 'Data Science')]"
      ]
     },
     "execution_count": 59,
     "metadata": {},
     "output_type": "execute_result"
    }
   ],
   "source": [
    "execute(db, \"SELECT * FROM students;\") "
   ]
  },
  {
   "cell_type": "markdown",
   "metadata": {},
   "source": [
    "d. Two students named Bill Gates and Elon Musk tested into phase 2 for progressive web. Write the SQL command that will add them to the table and then add them."
   ]
  },
  {
   "cell_type": "code",
   "execution_count": 60,
   "metadata": {},
   "outputs": [],
   "source": [
    "execute(db, \"INSERT INTO students \\\n",
    "             VALUES(Null,'Bill','Gates', 'Progressive Web');\", commit=True)\n",
    "\n",
    "execute(db, \"INSERT INTO students \\\n",
    "             VALUES(Null,'Elon','Musk', 'Progressive Web');\", commit=True)"
   ]
  },
  {
   "cell_type": "markdown",
   "metadata": {},
   "source": [
    "e. Elon Musk would like to go by a new name: 'XÆ Dogecoin-12'. Show the SQL command that would change his name and then run it. "
   ]
  },
  {
   "cell_type": "code",
   "execution_count": 61,
   "metadata": {},
   "outputs": [],
   "source": [
    "execute(db, \"UPDATE students SET first_name='XÆ', last_name='Dogecoin-12' WHERE id =32 ;\", commit=True)"
   ]
  },
  {
   "cell_type": "code",
   "execution_count": 62,
   "metadata": {},
   "outputs": [
    {
     "data": {
      "text/plain": [
       "[(1, 'Micah', 'Schaefer', 'Progressive Web'),\n",
       " (2, 'Kaitlyn', 'Dennis', 'Data Science'),\n",
       " (3, 'Tristin', 'Gibson', 'Progressive Web'),\n",
       " (4, 'Danny', 'Holland', 'Data Science'),\n",
       " (5, 'Madelyn', 'Marquez', 'Progressive Web'),\n",
       " (6, 'Coleman', 'Berger', 'Data Science'),\n",
       " (7, 'Cole', 'Frederick', 'Progressive Web'),\n",
       " (8, 'Kendrick', 'Parsons', 'Data Science'),\n",
       " (9, 'Rosemary', 'Rocha', 'Progressive Web'),\n",
       " (10, 'Beatrice', 'Nelson', 'Data Science'),\n",
       " (11, 'Max', 'York', 'Progressive Web'),\n",
       " (12, 'Nathalie', 'Pitts', 'Data Science'),\n",
       " (13, 'Taylor', 'Sutton', 'Progressive Web'),\n",
       " (14, 'Camila', 'Macdonald', 'Data Science'),\n",
       " (15, 'Carlie', 'Hickman', 'Progressive Web'),\n",
       " (16, 'Alivia', 'Mcbride', 'Data Science'),\n",
       " (17, 'Anabelle', 'Austin', 'Progressive Web'),\n",
       " (18, 'Londyn', 'Jacobson', 'Data Science'),\n",
       " (19, 'Reuben', 'Hicks', 'Progressive Web'),\n",
       " (20, 'Devan', 'Everett', 'Data Science'),\n",
       " (21, 'Devan', 'Everett', 'Progressive Web'),\n",
       " (22, 'Tianna', 'Ellison', 'Data Science'),\n",
       " (23, 'Kaylynn', 'Castillo', 'Progressive Web'),\n",
       " (24, 'Nolan', 'Scott', 'Data Science'),\n",
       " (25, 'Nolan', 'Scott', 'Progressive Web'),\n",
       " (26, 'Tessa', 'Villanueva', 'Data Science'),\n",
       " (27, 'Edgar', 'Riggs', 'Progressive Web'),\n",
       " (29, 'Kamron', 'Frye', 'Progressive Web'),\n",
       " (30, 'Devin', 'Peters', 'Data Science'),\n",
       " (31, 'Bill', 'Gates', 'Progressive Web'),\n",
       " (32, 'XÆ', 'Dogecoin-12', 'Progressive Web')]"
      ]
     },
     "execution_count": 62,
     "metadata": {},
     "output_type": "execute_result"
    }
   ],
   "source": [
    "execute(db, \"SELECT * FROM students;\") "
   ]
  },
  {
   "cell_type": "markdown",
   "metadata": {},
   "source": [
    "f. Show the command that would allow us to see only the students who are part of the course `data science`."
   ]
  },
  {
   "cell_type": "code",
   "execution_count": 64,
   "metadata": {},
   "outputs": [
    {
     "data": {
      "text/plain": [
       "[(2, 'Kaitlyn', 'Dennis', 'Data Science'),\n",
       " (4, 'Danny', 'Holland', 'Data Science'),\n",
       " (6, 'Coleman', 'Berger', 'Data Science'),\n",
       " (8, 'Kendrick', 'Parsons', 'Data Science'),\n",
       " (10, 'Beatrice', 'Nelson', 'Data Science'),\n",
       " (12, 'Nathalie', 'Pitts', 'Data Science'),\n",
       " (14, 'Camila', 'Macdonald', 'Data Science'),\n",
       " (16, 'Alivia', 'Mcbride', 'Data Science'),\n",
       " (18, 'Londyn', 'Jacobson', 'Data Science'),\n",
       " (20, 'Devan', 'Everett', 'Data Science'),\n",
       " (22, 'Tianna', 'Ellison', 'Data Science'),\n",
       " (24, 'Nolan', 'Scott', 'Data Science'),\n",
       " (26, 'Tessa', 'Villanueva', 'Data Science'),\n",
       " (30, 'Devin', 'Peters', 'Data Science')]"
      ]
     },
     "execution_count": 64,
     "metadata": {},
     "output_type": "execute_result"
    }
   ],
   "source": [
    "execute(db, \"SELECT * from students where course='Data Science';\")"
   ]
  },
  {
   "cell_type": "markdown",
   "metadata": {},
   "source": [
    "# Part 2\n",
    "\n",
    "The following section uses the `unknown.csv` dataset located in `../datasets/`"
   ]
  },
  {
   "cell_type": "markdown",
   "metadata": {},
   "source": [
    "a. Import and analyze the dataset. Make sure you do the following:\n",
    "\n",
    "* read the csv file in as a `df`."
   ]
  },
  {
   "cell_type": "code",
   "execution_count": 65,
   "metadata": {},
   "outputs": [
    {
     "data": {
      "text/html": [
       "<div>\n",
       "<style scoped>\n",
       "    .dataframe tbody tr th:only-of-type {\n",
       "        vertical-align: middle;\n",
       "    }\n",
       "\n",
       "    .dataframe tbody tr th {\n",
       "        vertical-align: top;\n",
       "    }\n",
       "\n",
       "    .dataframe thead th {\n",
       "        text-align: right;\n",
       "    }\n",
       "</style>\n",
       "<table border=\"1\" class=\"dataframe\">\n",
       "  <thead>\n",
       "    <tr style=\"text-align: right;\">\n",
       "      <th></th>\n",
       "      <th>x</th>\n",
       "      <th>y</th>\n",
       "    </tr>\n",
       "  </thead>\n",
       "  <tbody>\n",
       "    <tr>\n",
       "      <th>0</th>\n",
       "      <td>77</td>\n",
       "      <td>79.775152</td>\n",
       "    </tr>\n",
       "    <tr>\n",
       "      <th>1</th>\n",
       "      <td>21</td>\n",
       "      <td>23.177279</td>\n",
       "    </tr>\n",
       "    <tr>\n",
       "      <th>2</th>\n",
       "      <td>22</td>\n",
       "      <td>25.609262</td>\n",
       "    </tr>\n",
       "    <tr>\n",
       "      <th>3</th>\n",
       "      <td>20</td>\n",
       "      <td>17.857388</td>\n",
       "    </tr>\n",
       "    <tr>\n",
       "      <th>4</th>\n",
       "      <td>36</td>\n",
       "      <td>41.849864</td>\n",
       "    </tr>\n",
       "    <tr>\n",
       "      <th>...</th>\n",
       "      <td>...</td>\n",
       "      <td>...</td>\n",
       "    </tr>\n",
       "    <tr>\n",
       "      <th>295</th>\n",
       "      <td>71</td>\n",
       "      <td>68.545888</td>\n",
       "    </tr>\n",
       "    <tr>\n",
       "      <th>296</th>\n",
       "      <td>46</td>\n",
       "      <td>47.334876</td>\n",
       "    </tr>\n",
       "    <tr>\n",
       "      <th>297</th>\n",
       "      <td>55</td>\n",
       "      <td>54.090637</td>\n",
       "    </tr>\n",
       "    <tr>\n",
       "      <th>298</th>\n",
       "      <td>62</td>\n",
       "      <td>63.297171</td>\n",
       "    </tr>\n",
       "    <tr>\n",
       "      <th>299</th>\n",
       "      <td>47</td>\n",
       "      <td>52.459467</td>\n",
       "    </tr>\n",
       "  </tbody>\n",
       "</table>\n",
       "<p>300 rows × 2 columns</p>\n",
       "</div>"
      ],
      "text/plain": [
       "      x          y\n",
       "0    77  79.775152\n",
       "1    21  23.177279\n",
       "2    22  25.609262\n",
       "3    20  17.857388\n",
       "4    36  41.849864\n",
       "..   ..        ...\n",
       "295  71  68.545888\n",
       "296  46  47.334876\n",
       "297  55  54.090637\n",
       "298  62  63.297171\n",
       "299  47  52.459467\n",
       "\n",
       "[300 rows x 2 columns]"
      ]
     },
     "execution_count": 65,
     "metadata": {},
     "output_type": "execute_result"
    }
   ],
   "source": [
    "import pandas as pd\n",
    "\n",
    "df = pd.read_csv('../datasets/unknown.csv')\n",
    "df"
   ]
  },
  {
   "cell_type": "markdown",
   "metadata": {},
   "source": [
    "* output the top of the `df`."
   ]
  },
  {
   "cell_type": "code",
   "execution_count": 66,
   "metadata": {},
   "outputs": [
    {
     "data": {
      "text/html": [
       "<div>\n",
       "<style scoped>\n",
       "    .dataframe tbody tr th:only-of-type {\n",
       "        vertical-align: middle;\n",
       "    }\n",
       "\n",
       "    .dataframe tbody tr th {\n",
       "        vertical-align: top;\n",
       "    }\n",
       "\n",
       "    .dataframe thead th {\n",
       "        text-align: right;\n",
       "    }\n",
       "</style>\n",
       "<table border=\"1\" class=\"dataframe\">\n",
       "  <thead>\n",
       "    <tr style=\"text-align: right;\">\n",
       "      <th></th>\n",
       "      <th>x</th>\n",
       "      <th>y</th>\n",
       "    </tr>\n",
       "  </thead>\n",
       "  <tbody>\n",
       "    <tr>\n",
       "      <th>0</th>\n",
       "      <td>77</td>\n",
       "      <td>79.775152</td>\n",
       "    </tr>\n",
       "    <tr>\n",
       "      <th>1</th>\n",
       "      <td>21</td>\n",
       "      <td>23.177279</td>\n",
       "    </tr>\n",
       "    <tr>\n",
       "      <th>2</th>\n",
       "      <td>22</td>\n",
       "      <td>25.609262</td>\n",
       "    </tr>\n",
       "    <tr>\n",
       "      <th>3</th>\n",
       "      <td>20</td>\n",
       "      <td>17.857388</td>\n",
       "    </tr>\n",
       "    <tr>\n",
       "      <th>4</th>\n",
       "      <td>36</td>\n",
       "      <td>41.849864</td>\n",
       "    </tr>\n",
       "  </tbody>\n",
       "</table>\n",
       "</div>"
      ],
      "text/plain": [
       "    x          y\n",
       "0  77  79.775152\n",
       "1  21  23.177279\n",
       "2  22  25.609262\n",
       "3  20  17.857388\n",
       "4  36  41.849864"
      ]
     },
     "execution_count": 66,
     "metadata": {},
     "output_type": "execute_result"
    }
   ],
   "source": [
    "df.head()"
   ]
  },
  {
   "cell_type": "markdown",
   "metadata": {},
   "source": [
    "* output the columns."
   ]
  },
  {
   "cell_type": "code",
   "execution_count": 69,
   "metadata": {},
   "outputs": [
    {
     "data": {
      "text/plain": [
       "Index(['x', 'y'], dtype='object')"
      ]
     },
     "execution_count": 69,
     "metadata": {},
     "output_type": "execute_result"
    }
   ],
   "source": [
    "df.columns"
   ]
  },
  {
   "cell_type": "markdown",
   "metadata": {},
   "source": [
    "* show the shape of the `df`"
   ]
  },
  {
   "cell_type": "code",
   "execution_count": 70,
   "metadata": {},
   "outputs": [
    {
     "data": {
      "text/plain": [
       "(300, 2)"
      ]
     },
     "execution_count": 70,
     "metadata": {},
     "output_type": "execute_result"
    }
   ],
   "source": [
    "df.shape"
   ]
  },
  {
   "cell_type": "markdown",
   "metadata": {},
   "source": [
    "* show the info."
   ]
  },
  {
   "cell_type": "code",
   "execution_count": 72,
   "metadata": {},
   "outputs": [
    {
     "name": "stdout",
     "output_type": "stream",
     "text": [
      "<class 'pandas.core.frame.DataFrame'>\n",
      "RangeIndex: 300 entries, 0 to 299\n",
      "Data columns (total 2 columns):\n",
      " #   Column  Non-Null Count  Dtype  \n",
      "---  ------  --------------  -----  \n",
      " 0   x       300 non-null    int64  \n",
      " 1   y       300 non-null    float64\n",
      "dtypes: float64(1), int64(1)\n",
      "memory usage: 4.8 KB\n"
     ]
    }
   ],
   "source": [
    "df.info()"
   ]
  },
  {
   "cell_type": "markdown",
   "metadata": {},
   "source": [
    "* check if we're missing any data and handle it."
   ]
  },
  {
   "cell_type": "code",
   "execution_count": 74,
   "metadata": {},
   "outputs": [
    {
     "data": {
      "text/html": [
       "<div>\n",
       "<style scoped>\n",
       "    .dataframe tbody tr th:only-of-type {\n",
       "        vertical-align: middle;\n",
       "    }\n",
       "\n",
       "    .dataframe tbody tr th {\n",
       "        vertical-align: top;\n",
       "    }\n",
       "\n",
       "    .dataframe thead th {\n",
       "        text-align: right;\n",
       "    }\n",
       "</style>\n",
       "<table border=\"1\" class=\"dataframe\">\n",
       "  <thead>\n",
       "    <tr style=\"text-align: right;\">\n",
       "      <th></th>\n",
       "      <th>x</th>\n",
       "      <th>y</th>\n",
       "    </tr>\n",
       "  </thead>\n",
       "  <tbody>\n",
       "  </tbody>\n",
       "</table>\n",
       "</div>"
      ],
      "text/plain": [
       "Empty DataFrame\n",
       "Columns: [x, y]\n",
       "Index: []"
      ]
     },
     "execution_count": 74,
     "metadata": {},
     "output_type": "execute_result"
    }
   ],
   "source": [
    "df[df.isnull().any(axis=1)]"
   ]
  },
  {
   "cell_type": "markdown",
   "metadata": {},
   "source": [
    "* chart the data so we can visualize any relationships"
   ]
  },
  {
   "cell_type": "code",
   "execution_count": 77,
   "metadata": {},
   "outputs": [
    {
     "data": {
      "text/plain": [
       "<matplotlib.collections.PathCollection at 0x7fbea659c790>"
      ]
     },
     "execution_count": 77,
     "metadata": {},
     "output_type": "execute_result"
    },
    {
     "data": {
      "image/png": "[encoded data removed]",
      "text/plain": [
       "<Figure size 432x288 with 1 Axes>"
      ]
     },
     "metadata": {
      "needs_background": "light"
     },
     "output_type": "display_data"
    }
   ],
   "source": [
    "import numpy as np\n",
    "import matplotlib.pyplot as plt\n",
    "\n",
    "plt.scatter(df[\"x\"], df['y'])"
   ]
  },
  {
   "cell_type": "markdown",
   "metadata": {},
   "source": []
  },
  {
   "cell_type": "markdown",
   "metadata": {},
   "source": [
    "* show the covariance and correlation matrixes (including heatmap if you'd like)."
   ]
  },
  {
   "cell_type": "code",
   "execution_count": 79,
   "metadata": {},
   "outputs": [
    {
     "data": {
      "text/plain": [
       "<Figure size 720x720 with 0 Axes>"
      ]
     },
     "metadata": {},
     "output_type": "display_data"
    },
    {
     "data": {
      "image/png": "[encoded data removed]",
      "text/plain": [
       "<Figure size 720x720 with 3 Axes>"
      ]
     },
     "metadata": {
      "needs_background": "light"
     },
     "output_type": "display_data"
    }
   ],
   "source": [
    "plt.figure(figsize=(10,10))\n",
    "sns.jointplot(x=df[\"x\"].values, y=df[\"y\"].values, height=10)\n",
    "plt.ylabel(\"Y Values\")\n",
    "plt.xlabel(\"X Values\")\n",
    "plt.show()"
   ]
  },
  {
   "cell_type": "code",
   "execution_count": 89,
   "metadata": {},
   "outputs": [
    {
     "data": {
      "image/png": "[encoded data removed]",
      "text/plain": [
       "<Figure size 360x360 with 6 Axes>"
      ]
     },
     "metadata": {
      "needs_background": "light"
     },
     "output_type": "display_data"
    }
   ],
   "source": [
    "import seaborn as sns\n",
    "sns.pairplot(df)\n",
    "plt.show()"
   ]
  },
  {
   "cell_type": "code",
   "execution_count": 90,
   "metadata": {},
   "outputs": [
    {
     "data": {
      "text/html": [
       "<div>\n",
       "<style scoped>\n",
       "    .dataframe tbody tr th:only-of-type {\n",
       "        vertical-align: middle;\n",
       "    }\n",
       "\n",
       "    .dataframe tbody tr th {\n",
       "        vertical-align: top;\n",
       "    }\n",
       "\n",
       "    .dataframe thead th {\n",
       "        text-align: right;\n",
       "    }\n",
       "</style>\n",
       "<table border=\"1\" class=\"dataframe\">\n",
       "  <thead>\n",
       "    <tr style=\"text-align: right;\">\n",
       "      <th></th>\n",
       "      <th>x</th>\n",
       "      <th>y</th>\n",
       "    </tr>\n",
       "  </thead>\n",
       "  <tbody>\n",
       "    <tr>\n",
       "      <th>x</th>\n",
       "      <td>1.000000</td>\n",
       "      <td>0.994545</td>\n",
       "    </tr>\n",
       "    <tr>\n",
       "      <th>y</th>\n",
       "      <td>0.994545</td>\n",
       "      <td>1.000000</td>\n",
       "    </tr>\n",
       "  </tbody>\n",
       "</table>\n",
       "</div>"
      ],
      "text/plain": [
       "          x         y\n",
       "x  1.000000  0.994545\n",
       "y  0.994545  1.000000"
      ]
     },
     "execution_count": 90,
     "metadata": {},
     "output_type": "execute_result"
    }
   ],
   "source": [
    "df.corr()"
   ]
  },
  {
   "cell_type": "code",
   "execution_count": 91,
   "metadata": {},
   "outputs": [
    {
     "data": {
      "text/html": [
       "<div>\n",
       "<style scoped>\n",
       "    .dataframe tbody tr th:only-of-type {\n",
       "        vertical-align: middle;\n",
       "    }\n",
       "\n",
       "    .dataframe tbody tr th {\n",
       "        vertical-align: top;\n",
       "    }\n",
       "\n",
       "    .dataframe thead th {\n",
       "        text-align: right;\n",
       "    }\n",
       "</style>\n",
       "<table border=\"1\" class=\"dataframe\">\n",
       "  <thead>\n",
       "    <tr style=\"text-align: right;\">\n",
       "      <th></th>\n",
       "      <th>x</th>\n",
       "      <th>y</th>\n",
       "    </tr>\n",
       "  </thead>\n",
       "  <tbody>\n",
       "    <tr>\n",
       "      <th>x</th>\n",
       "      <td>812.494303</td>\n",
       "      <td>824.141698</td>\n",
       "    </tr>\n",
       "    <tr>\n",
       "      <th>y</th>\n",
       "      <td>824.141698</td>\n",
       "      <td>845.150999</td>\n",
       "    </tr>\n",
       "  </tbody>\n",
       "</table>\n",
       "</div>"
      ],
      "text/plain": [
       "            x           y\n",
       "x  812.494303  824.141698\n",
       "y  824.141698  845.150999"
      ]
     },
     "execution_count": 91,
     "metadata": {},
     "output_type": "execute_result"
    }
   ],
   "source": [
    "df.cov()"
   ]
  },
  {
   "cell_type": "markdown",
   "metadata": {},
   "source": [
    "b. Train a linear regression model using week-20-class-2 as reference. We'd like to predict column `y`.\n",
    "\n",
    "Make sure to do the following:\n",
    "* Separate values into `X` and `Y` variables."
   ]
  },
  {
   "cell_type": "code",
   "execution_count": 92,
   "metadata": {},
   "outputs": [],
   "source": [
    "X = df[\"x\"]\n",
    "Y = df[\"y\"]"
   ]
  },
  {
   "cell_type": "markdown",
   "metadata": {},
   "source": [
    "* Generate training and test data for `X` and `Y` using `train_test_split` (with a test size of 20%)"
   ]
  },
  {
   "cell_type": "code",
   "execution_count": 98,
   "metadata": {
    "scrolled": false
   },
   "outputs": [
    {
     "data": {
      "text/plain": [
       "array([[ 63],\n",
       "       [ 29],\n",
       "       [ 30],\n",
       "       [ 23],\n",
       "       [ 16],\n",
       "       [ 19],\n",
       "       [ 37],\n",
       "       [  4],\n",
       "       [ 69],\n",
       "       [ 91],\n",
       "       [ 92],\n",
       "       [ 52],\n",
       "       [ 28],\n",
       "       [ 89],\n",
       "       [ 54],\n",
       "       [ 80],\n",
       "       [ 76],\n",
       "       [  4],\n",
       "       [ 95],\n",
       "       [  0],\n",
       "       [ 82],\n",
       "       [ 14],\n",
       "       [ 67],\n",
       "       [ 78],\n",
       "       [  0],\n",
       "       [ 11],\n",
       "       [ 36],\n",
       "       [ 61],\n",
       "       [ 16],\n",
       "       [ 53],\n",
       "       [ 96],\n",
       "       [ 20],\n",
       "       [  5],\n",
       "       [ 46],\n",
       "       [ 74],\n",
       "       [ 55],\n",
       "       [  2],\n",
       "       [ 41],\n",
       "       [ 66],\n",
       "       [ 54],\n",
       "       [ 45],\n",
       "       [ 39],\n",
       "       [ 21],\n",
       "       [ 27],\n",
       "       [ 68],\n",
       "       [ 66],\n",
       "       [ 42],\n",
       "       [ 73],\n",
       "       [ 16],\n",
       "       [  8],\n",
       "       [ 27],\n",
       "       [ 96],\n",
       "       [ 25],\n",
       "       [ 15],\n",
       "       [ 98],\n",
       "       [ 91],\n",
       "       [ 28],\n",
       "       [ 63],\n",
       "       [ 77],\n",
       "       [ 72],\n",
       "       [ 65],\n",
       "       [  4],\n",
       "       [ 64],\n",
       "       [ 50],\n",
       "       [ 90],\n",
       "       [ 60],\n",
       "       [ 33],\n",
       "       [ 92],\n",
       "       [ 64],\n",
       "       [ 79],\n",
       "       [ 36],\n",
       "       [ 27],\n",
       "       [ 75],\n",
       "       [ 90],\n",
       "       [ 26],\n",
       "       [ 20],\n",
       "       [ 80],\n",
       "       [ 13],\n",
       "       [ 47],\n",
       "       [ 55],\n",
       "       [ 89],\n",
       "       [ 91],\n",
       "       [ 17],\n",
       "       [ 73],\n",
       "       [ 33],\n",
       "       [ 19],\n",
       "       [ 43],\n",
       "       [100],\n",
       "       [ 55],\n",
       "       [ 35],\n",
       "       [ 49],\n",
       "       [ 99],\n",
       "       [ 62],\n",
       "       [ 47],\n",
       "       [ 43],\n",
       "       [ 70],\n",
       "       [  5],\n",
       "       [ 21],\n",
       "       [ 65],\n",
       "       [ 46],\n",
       "       [ 87],\n",
       "       [ 36],\n",
       "       [ 41],\n",
       "       [ 21],\n",
       "       [  4],\n",
       "       [ 91],\n",
       "       [ 72],\n",
       "       [ 94],\n",
       "       [ 82],\n",
       "       [  6],\n",
       "       [ 65],\n",
       "       [ 76],\n",
       "       [ 71],\n",
       "       [ 92],\n",
       "       [ 47],\n",
       "       [ 19],\n",
       "       [ 32],\n",
       "       [ 38],\n",
       "       [ 61],\n",
       "       [ 59],\n",
       "       [ 54],\n",
       "       [ 81],\n",
       "       [ 16],\n",
       "       [ 69],\n",
       "       [ 28],\n",
       "       [ 64],\n",
       "       [ 93],\n",
       "       [ 84],\n",
       "       [ 55],\n",
       "       [ 12],\n",
       "       [ 71],\n",
       "       [ 57],\n",
       "       [ 62],\n",
       "       [ 56],\n",
       "       [ 73],\n",
       "       [ 40],\n",
       "       [  7],\n",
       "       [ 74],\n",
       "       [ 72],\n",
       "       [ 82],\n",
       "       [ 25],\n",
       "       [ 93],\n",
       "       [ 81],\n",
       "       [ 96],\n",
       "       [ 32],\n",
       "       [ 24],\n",
       "       [ 58],\n",
       "       [ 64],\n",
       "       [ 46],\n",
       "       [ 12],\n",
       "       [ 12],\n",
       "       [ 37],\n",
       "       [  8],\n",
       "       [ 21],\n",
       "       [ 21],\n",
       "       [ 13],\n",
       "       [ 51],\n",
       "       [ 43],\n",
       "       [ 44],\n",
       "       [ 88],\n",
       "       [ 22],\n",
       "       [ 42],\n",
       "       [ 76],\n",
       "       [ 67],\n",
       "       [ 41],\n",
       "       [ 87],\n",
       "       [ 89],\n",
       "       [ 97],\n",
       "       [ 39],\n",
       "       [ 44],\n",
       "       [ 62],\n",
       "       [ 69],\n",
       "       [ 71],\n",
       "       [ 59],\n",
       "       [ 59],\n",
       "       [ 58],\n",
       "       [  5],\n",
       "       [ 89],\n",
       "       [ 50],\n",
       "       [ 68],\n",
       "       [ 72],\n",
       "       [ 65],\n",
       "       [ 99],\n",
       "       [ 79],\n",
       "       [ 97],\n",
       "       [ 52],\n",
       "       [ 39],\n",
       "       [ 46],\n",
       "       [ 22],\n",
       "       [ 15],\n",
       "       [ 59],\n",
       "       [ 56],\n",
       "       [ 58],\n",
       "       [ 96],\n",
       "       [100],\n",
       "       [ 72],\n",
       "       [ 14],\n",
       "       [ 95],\n",
       "       [ 14],\n",
       "       [ 19],\n",
       "       [ 35],\n",
       "       [ 55],\n",
       "       [ 95],\n",
       "       [ 20],\n",
       "       [ 67],\n",
       "       [ 27],\n",
       "       [ 84],\n",
       "       [ 99],\n",
       "       [ 16],\n",
       "       [ 95],\n",
       "       [ 28],\n",
       "       [ 48],\n",
       "       [ 20],\n",
       "       [  7],\n",
       "       [ 21],\n",
       "       [ 46],\n",
       "       [ 32],\n",
       "       [ 64],\n",
       "       [ 38],\n",
       "       [ 28],\n",
       "       [ 45],\n",
       "       [ 13],\n",
       "       [ 39],\n",
       "       [ 60],\n",
       "       [  0],\n",
       "       [ 31],\n",
       "       [ 58],\n",
       "       [ 93],\n",
       "       [ 74],\n",
       "       [ 12],\n",
       "       [ 23],\n",
       "       [ 55],\n",
       "       [ 51],\n",
       "       [ 56],\n",
       "       [  2],\n",
       "       [ 14],\n",
       "       [ 78],\n",
       "       [ 60],\n",
       "       [100],\n",
       "       [ 13]])"
      ]
     },
     "execution_count": 98,
     "metadata": {},
     "output_type": "execute_result"
    }
   ],
   "source": [
    "from sklearn.model_selection import train_test_split\n",
    "\n",
    "X_train, X_test, y_train, y_test = train_test_split(X,Y, test_size=0.2)\n",
    "\n",
    "X_train.values.reshape(-1,1) "
   ]
  },
  {
   "cell_type": "code",
   "execution_count": 99,
   "metadata": {},
   "outputs": [
    {
     "data": {
      "text/plain": [
       "array([[ 58.61466887],\n",
       "       [ 26.49487961],\n",
       "       [ 26.48713683],\n",
       "       [ 24.68362712],\n",
       "       [ 16.74923937],\n",
       "       [ 17.09537241],\n",
       "       [ 40.00709598],\n",
       "       [  6.07939007],\n",
       "       [ 70.9146434 ],\n",
       "       [ 95.06140858],\n",
       "       [ 89.73153611],\n",
       "       [ 54.08170635],\n",
       "       [ 29.31770045],\n",
       "       [ 89.82634442],\n",
       "       [ 59.07247174],\n",
       "       [ 79.44769523],\n",
       "       [ 78.04237454],\n",
       "       [  7.64652976],\n",
       "       [ 97.61793701],\n",
       "       [ -2.34473854],\n",
       "       [ 88.54475895],\n",
       "       [ 12.42624606],\n",
       "       [ 63.80768172],\n",
       "       [ 74.4993599 ],\n",
       "       [ -3.46788379],\n",
       "       [  8.67333636],\n",
       "       [ 40.24701716],\n",
       "       [ 59.225745  ],\n",
       "       [ 21.16523945],\n",
       "       [ 50.17008622],\n",
       "       [ 97.27405461],\n",
       "       [ 17.85738813],\n",
       "       [  0.67607675],\n",
       "       [ 46.56141773],\n",
       "       [ 72.9138853 ],\n",
       "       [ 55.7383467 ],\n",
       "       [ -1.63296825],\n",
       "       [ 38.68888682],\n",
       "       [ 67.01715955],\n",
       "       [ 52.45103628],\n",
       "       [ 44.68913433],\n",
       "       [ 38.05766408],\n",
       "       [ 17.0854783 ],\n",
       "       [ 21.71380347],\n",
       "       [ 67.28725332],\n",
       "       [ 67.22008001],\n",
       "       [ 42.03835773],\n",
       "       [ 75.7584178 ],\n",
       "       [ 11.21710477],\n",
       "       [  5.40522052],\n",
       "       [ 23.44479161],\n",
       "       [ 95.14907176],\n",
       "       [ 21.32273728],\n",
       "       [ 13.25690647],\n",
       "       [ 95.58017185],\n",
       "       [ 89.73951993],\n",
       "       [ 31.32274932],\n",
       "       [ 63.28312382],\n",
       "       [ 80.97144285],\n",
       "       [ 68.19721905],\n",
       "       [ 64.83296316],\n",
       "       [  5.60766487],\n",
       "       [ 62.82816355],\n",
       "       [ 50.96343637],\n",
       "       [ 89.899991  ],\n",
       "       [ 63.19354354],\n",
       "       [ 36.34644189],\n",
       "       [ 91.30863673],\n",
       "       [ 62.60089773],\n",
       "       [ 78.31056542],\n",
       "       [ 38.67780759],\n",
       "       [ 30.49412933],\n",
       "       [ 73.2300846 ],\n",
       "       [ 98.13258005],\n",
       "       [ 25.75612514],\n",
       "       [ 18.39512747],\n",
       "       [ 78.61042432],\n",
       "       [ 13.12109842],\n",
       "       [ 46.69013968],\n",
       "       [ 55.81628509],\n",
       "       [ 91.59548851],\n",
       "       [ 91.36566374],\n",
       "       [ 13.41310757],\n",
       "       [ 71.00377824],\n",
       "       [ 30.48881287],\n",
       "       [ 17.44047622],\n",
       "       [ 44.18863945],\n",
       "       [105.4503788 ],\n",
       "       [ 54.09063686],\n",
       "       [ 34.8534823 ],\n",
       "       [ 52.28620611],\n",
       "       [ 98.03017721],\n",
       "       [ 61.38800663],\n",
       "       [ 51.69967172],\n",
       "       [ 48.67252645],\n",
       "       [ 67.2352155 ],\n",
       "       [  5.6340309 ],\n",
       "       [ 23.17727887],\n",
       "       [ 66.61499643],\n",
       "       [ 46.11021062],\n",
       "       [ 88.80306911],\n",
       "       [ 41.84986439],\n",
       "       [ 45.44599591],\n",
       "       [ 18.98322306],\n",
       "       [  8.65571417],\n",
       "       [ 91.69240746],\n",
       "       [ 77.9969477 ],\n",
       "       [ 97.00148372],\n",
       "       [ 81.29750133],\n",
       "       [ 11.89457829],\n",
       "       [ 66.95806869],\n",
       "       [ 75.59701346],\n",
       "       [ 68.5458879 ],\n",
       "       [ 95.3958003 ],\n",
       "       [ 52.45946688],\n",
       "       [ 14.99514319],\n",
       "       [ 29.38505024],\n",
       "       [ 38.43076389],\n",
       "       [ 59.12912974],\n",
       "       [ 59.10598995],\n",
       "       [ 53.32005764],\n",
       "       [ 78.79008525],\n",
       "       [ 16.68715211],\n",
       "       [ 74.45114379],\n",
       "       [ 27.42497237],\n",
       "       [ 64.37521087],\n",
       "       [ 95.12400481],\n",
       "       [ 83.68820499],\n",
       "       [ 51.10774273],\n",
       "       [ 12.59244741],\n",
       "       [ 70.34329706],\n",
       "       [ 56.14834113],\n",
       "       [ 58.87465933],\n",
       "       [ 61.09367762],\n",
       "       [ 70.34969772],\n",
       "       [ 38.14753871],\n",
       "       [ 10.41468095],\n",
       "       [ 75.07484683],\n",
       "       [ 69.39858505],\n",
       "       [ 85.45504157],\n",
       "       [ 30.41303282],\n",
       "       [ 93.03483388],\n",
       "       [ 73.9308764 ],\n",
       "       [ 96.11982476],\n",
       "       [ 37.80182795],\n",
       "       [ 25.63476257],\n",
       "       [ 57.01631363],\n",
       "       [ 67.68142149],\n",
       "       [ 49.83538167],\n",
       "       [  7.46850184],\n",
       "       [ 12.07991648],\n",
       "       [ 40.03504862],\n",
       "       [  9.3914168 ],\n",
       "       [ 19.87562242],\n",
       "       [ 19.1315097 ],\n",
       "       [  9.74416426],\n",
       "       [ 46.91387709],\n",
       "       [ 42.84526108],\n",
       "       [ 45.96396877],\n",
       "       [ 87.84749912],\n",
       "       [ 18.84798163],\n",
       "       [ 38.98317436],\n",
       "       [ 79.50341495],\n",
       "       [ 68.48820749],\n",
       "       [ 39.31485292],\n",
       "       [ 84.06676818],\n",
       "       [ 92.11906278],\n",
       "       [101.0697879 ],\n",
       "       [ 36.79224762],\n",
       "       [ 37.08457698],\n",
       "       [ 63.29717058],\n",
       "       [ 77.22982636],\n",
       "       [ 68.16724757],\n",
       "       [ 56.82457013],\n",
       "       [ 59.61247085],\n",
       "       [ 57.48741435],\n",
       "       [  8.74674765],\n",
       "       [ 92.40217686],\n",
       "       [ 50.96155532],\n",
       "       [ 65.01324035],\n",
       "       [ 74.68953276],\n",
       "       [ 68.94699774],\n",
       "       [ 97.55155344],\n",
       "       [ 77.91032969],\n",
       "       [ 97.70342201],\n",
       "       [ 52.01932286],\n",
       "       [ 47.49374765],\n",
       "       [ 47.33487629],\n",
       "       [ 25.60926156],\n",
       "       [  9.80523488],\n",
       "       [ 60.91792707],\n",
       "       [ 57.19103506],\n",
       "       [ 53.52042319],\n",
       "       [ 94.79081712],\n",
       "       [105.5918375 ],\n",
       "       [ 68.11367147],\n",
       "       [ 13.83959878],\n",
       "       [ 95.79747345],\n",
       "       [ 16.63507984],\n",
       "       [ 19.38780134],\n",
       "       [ 24.3884599 ],\n",
       "       [ 51.83503872],\n",
       "       [ 90.71481654],\n",
       "       [ 21.63500655],\n",
       "       [ 67.02150613],\n",
       "       [ 26.59112396],\n",
       "       [ 85.18657275],\n",
       "       [ 99.87382707],\n",
       "       [ 16.82839701],\n",
       "       [ 97.13832018],\n",
       "       [ 33.07112825],\n",
       "       [ 49.88226593],\n",
       "       [ 19.87846479],\n",
       "       [  9.28169975],\n",
       "       [ 16.89085185],\n",
       "       [ 52.05490703],\n",
       "       [ 33.38474138],\n",
       "       [ 67.38654703],\n",
       "       [ 36.94173178],\n",
       "       [ 28.15668543],\n",
       "       [ 41.90368917],\n",
       "       [ 17.0761107 ],\n",
       "       [ 33.37834391],\n",
       "       [ 59.8313966 ],\n",
       "       [ -1.04011421],\n",
       "       [ 31.93063515],\n",
       "       [ 55.37049953],\n",
       "       [ 99.43577876],\n",
       "       [ 75.69298554],\n",
       "       [ 12.11219941],\n",
       "       [ 18.31396758],\n",
       "       [ 51.80035866],\n",
       "       [ 56.43046022],\n",
       "       [ 54.55446979],\n",
       "       [ -2.81991397],\n",
       "       [ 15.49301141],\n",
       "       [ 81.40381769],\n",
       "       [ 60.9105427 ],\n",
       "       [103.5266162 ],\n",
       "       [ 14.05572877]])"
      ]
     },
     "execution_count": 99,
     "metadata": {},
     "output_type": "execute_result"
    }
   ],
   "source": [
    "y_train.values.reshape(-1,1)"
   ]
  },
  {
   "cell_type": "markdown",
   "metadata": {},
   "source": [
    "* Create an instance of the `LinearRegression` class and run the regression."
   ]
  },
  {
   "cell_type": "code",
   "execution_count": 100,
   "metadata": {},
   "outputs": [
    {
     "data": {
      "text/plain": [
       "LinearRegression()"
      ]
     },
     "execution_count": 100,
     "metadata": {},
     "output_type": "execute_result"
    }
   ],
   "source": [
    "from sklearn.linear_model import LinearRegression\n",
    "\n",
    "reg = LinearRegression()\n",
    "\n",
    "reg.fit(X_train.values.reshape(-1,1), y_train.values.reshape(-1,1))"
   ]
  },
  {
   "cell_type": "markdown",
   "metadata": {},
   "source": [
    "* Output the score of the regression."
   ]
  },
  {
   "cell_type": "code",
   "execution_count": 103,
   "metadata": {},
   "outputs": [
    {
     "name": "stdout",
     "output_type": "stream",
     "text": [
      "0.9904072077370212\n"
     ]
    }
   ],
   "source": [
    "score = reg.score(X_test.values.reshape(-1,1), y_test.values.reshape(-1,1))\n",
    "\n",
    "print(score)"
   ]
  },
  {
   "cell_type": "markdown",
   "metadata": {},
   "source": [
    "* Chart the data."
   ]
  },
  {
   "cell_type": "code",
   "execution_count": 104,
   "metadata": {},
   "outputs": [
    {
     "data": {
      "image/png": "[encoded data removed]",
      "text/plain": [
       "<Figure size 432x288 with 1 Axes>"
      ]
     },
     "metadata": {
      "needs_background": "light"
     },
     "output_type": "display_data"
    }
   ],
   "source": [
    "y_line = np.arange(0,100).reshape(-1,1)\n",
    "sns.regplot(x='x', y='y', data=df, fit_reg=True)\n",
    "plt.plot(y_line, reg.predict(y_line))\n",
    "plt.show()"
   ]
  },
  {
   "cell_type": "markdown",
   "metadata": {},
   "source": [
    "* Bonus: what was the y-intercept and slope? Use the documentation to find this information out."
   ]
  },
  {
   "cell_type": "markdown",
   "metadata": {},
   "source": []
  },
  {
   "cell_type": "markdown",
   "metadata": {},
   "source": [
    "# Part 3\n",
    "\n",
    "Using a dataset of your choosing (try kaggle if stuck). Set up and run a linear regression on the data using the steps from Part 2. Don't worry if your results are inconclusive (it happens). Demonstrate that you're able to do it."
   ]
  },
  {
   "cell_type": "code",
   "execution_count": 105,
   "metadata": {},
   "outputs": [],
   "source": [
    "#imports\n",
    "\n",
    "import pandas as pd\n",
    "import numpy as np\n",
    "import matplotlib.pyplot as plt\n",
    "import seaborn as sns\n",
    "import sklearn as sk"
   ]
  },
  {
   "cell_type": "code",
   "execution_count": 107,
   "metadata": {},
   "outputs": [
    {
     "data": {
      "text/html": [
       "<div>\n",
       "<style scoped>\n",
       "    .dataframe tbody tr th:only-of-type {\n",
       "        vertical-align: middle;\n",
       "    }\n",
       "\n",
       "    .dataframe tbody tr th {\n",
       "        vertical-align: top;\n",
       "    }\n",
       "\n",
       "    .dataframe thead th {\n",
       "        text-align: right;\n",
       "    }\n",
       "</style>\n",
       "<table border=\"1\" class=\"dataframe\">\n",
       "  <thead>\n",
       "    <tr style=\"text-align: right;\">\n",
       "      <th></th>\n",
       "      <th>Rank</th>\n",
       "      <th>Name</th>\n",
       "      <th>Platform</th>\n",
       "      <th>Year</th>\n",
       "      <th>Genre</th>\n",
       "      <th>Publisher</th>\n",
       "      <th>NA_Sales</th>\n",
       "      <th>EU_Sales</th>\n",
       "      <th>JP_Sales</th>\n",
       "      <th>Other_Sales</th>\n",
       "      <th>Global_Sales</th>\n",
       "    </tr>\n",
       "  </thead>\n",
       "  <tbody>\n",
       "    <tr>\n",
       "      <th>0</th>\n",
       "      <td>1</td>\n",
       "      <td>Wii Sports</td>\n",
       "      <td>Wii</td>\n",
       "      <td>2006.0</td>\n",
       "      <td>Sports</td>\n",
       "      <td>Nintendo</td>\n",
       "      <td>41.49</td>\n",
       "      <td>29.02</td>\n",
       "      <td>3.77</td>\n",
       "      <td>8.46</td>\n",
       "      <td>82.74</td>\n",
       "    </tr>\n",
       "    <tr>\n",
       "      <th>1</th>\n",
       "      <td>2</td>\n",
       "      <td>Super Mario Bros.</td>\n",
       "      <td>NES</td>\n",
       "      <td>1985.0</td>\n",
       "      <td>Platform</td>\n",
       "      <td>Nintendo</td>\n",
       "      <td>29.08</td>\n",
       "      <td>3.58</td>\n",
       "      <td>6.81</td>\n",
       "      <td>0.77</td>\n",
       "      <td>40.24</td>\n",
       "    </tr>\n",
       "    <tr>\n",
       "      <th>2</th>\n",
       "      <td>3</td>\n",
       "      <td>Mario Kart Wii</td>\n",
       "      <td>Wii</td>\n",
       "      <td>2008.0</td>\n",
       "      <td>Racing</td>\n",
       "      <td>Nintendo</td>\n",
       "      <td>15.85</td>\n",
       "      <td>12.88</td>\n",
       "      <td>3.79</td>\n",
       "      <td>3.31</td>\n",
       "      <td>35.82</td>\n",
       "    </tr>\n",
       "    <tr>\n",
       "      <th>3</th>\n",
       "      <td>4</td>\n",
       "      <td>Wii Sports Resort</td>\n",
       "      <td>Wii</td>\n",
       "      <td>2009.0</td>\n",
       "      <td>Sports</td>\n",
       "      <td>Nintendo</td>\n",
       "      <td>15.75</td>\n",
       "      <td>11.01</td>\n",
       "      <td>3.28</td>\n",
       "      <td>2.96</td>\n",
       "      <td>33.00</td>\n",
       "    </tr>\n",
       "    <tr>\n",
       "      <th>4</th>\n",
       "      <td>5</td>\n",
       "      <td>Pokemon Red/Pokemon Blue</td>\n",
       "      <td>GB</td>\n",
       "      <td>1996.0</td>\n",
       "      <td>Role-Playing</td>\n",
       "      <td>Nintendo</td>\n",
       "      <td>11.27</td>\n",
       "      <td>8.89</td>\n",
       "      <td>10.22</td>\n",
       "      <td>1.00</td>\n",
       "      <td>31.37</td>\n",
       "    </tr>\n",
       "  </tbody>\n",
       "</table>\n",
       "</div>"
      ],
      "text/plain": [
       "   Rank                      Name Platform    Year         Genre Publisher  \\\n",
       "0     1                Wii Sports      Wii  2006.0        Sports  Nintendo   \n",
       "1     2         Super Mario Bros.      NES  1985.0      Platform  Nintendo   \n",
       "2     3            Mario Kart Wii      Wii  2008.0        Racing  Nintendo   \n",
       "3     4         Wii Sports Resort      Wii  2009.0        Sports  Nintendo   \n",
       "4     5  Pokemon Red/Pokemon Blue       GB  1996.0  Role-Playing  Nintendo   \n",
       "\n",
       "   NA_Sales  EU_Sales  JP_Sales  Other_Sales  Global_Sales  \n",
       "0     41.49     29.02      3.77         8.46         82.74  \n",
       "1     29.08      3.58      6.81         0.77         40.24  \n",
       "2     15.85     12.88      3.79         3.31         35.82  \n",
       "3     15.75     11.01      3.28         2.96         33.00  \n",
       "4     11.27      8.89     10.22         1.00         31.37  "
      ]
     },
     "execution_count": 107,
     "metadata": {},
     "output_type": "execute_result"
    }
   ],
   "source": [
    "video_games = pd.read_csv(\"../datasets/vgsales.csv\")\n",
    "\n",
    "video_games.head()"
   ]
  },
  {
   "cell_type": "code",
   "execution_count": 112,
   "metadata": {},
   "outputs": [
    {
     "data": {
      "text/plain": [
       "(16598, 11)"
      ]
     },
     "execution_count": 112,
     "metadata": {},
     "output_type": "execute_result"
    }
   ],
   "source": [
    "video_games.shape"
   ]
  },
  {
   "cell_type": "code",
   "execution_count": 113,
   "metadata": {},
   "outputs": [
    {
     "name": "stdout",
     "output_type": "stream",
     "text": [
      "<class 'pandas.core.frame.DataFrame'>\n",
      "RangeIndex: 16598 entries, 0 to 16597\n",
      "Data columns (total 11 columns):\n",
      " #   Column        Non-Null Count  Dtype  \n",
      "---  ------        --------------  -----  \n",
      " 0   Rank          16598 non-null  int64  \n",
      " 1   Name          16598 non-null  object \n",
      " 2   Platform      16598 non-null  object \n",
      " 3   Year          16327 non-null  float64\n",
      " 4   Genre         16598 non-null  object \n",
      " 5   Publisher     16540 non-null  object \n",
      " 6   NA_Sales      16598 non-null  float64\n",
      " 7   EU_Sales      16598 non-null  float64\n",
      " 8   JP_Sales      16598 non-null  float64\n",
      " 9   Other_Sales   16598 non-null  float64\n",
      " 10  Global_Sales  16598 non-null  float64\n",
      "dtypes: float64(6), int64(1), object(4)\n",
      "memory usage: 1.4+ MB\n"
     ]
    }
   ],
   "source": [
    "video_games.info()"
   ]
  },
  {
   "cell_type": "code",
   "execution_count": 114,
   "metadata": {},
   "outputs": [
    {
     "data": {
      "text/html": [
       "<div>\n",
       "<style scoped>\n",
       "    .dataframe tbody tr th:only-of-type {\n",
       "        vertical-align: middle;\n",
       "    }\n",
       "\n",
       "    .dataframe tbody tr th {\n",
       "        vertical-align: top;\n",
       "    }\n",
       "\n",
       "    .dataframe thead th {\n",
       "        text-align: right;\n",
       "    }\n",
       "</style>\n",
       "<table border=\"1\" class=\"dataframe\">\n",
       "  <thead>\n",
       "    <tr style=\"text-align: right;\">\n",
       "      <th></th>\n",
       "      <th>Rank</th>\n",
       "      <th>Name</th>\n",
       "      <th>Platform</th>\n",
       "      <th>Year</th>\n",
       "      <th>Genre</th>\n",
       "      <th>Publisher</th>\n",
       "      <th>NA_Sales</th>\n",
       "      <th>EU_Sales</th>\n",
       "      <th>JP_Sales</th>\n",
       "      <th>Other_Sales</th>\n",
       "      <th>Global_Sales</th>\n",
       "    </tr>\n",
       "  </thead>\n",
       "  <tbody>\n",
       "    <tr>\n",
       "      <th>179</th>\n",
       "      <td>180</td>\n",
       "      <td>Madden NFL 2004</td>\n",
       "      <td>PS2</td>\n",
       "      <td>NaN</td>\n",
       "      <td>Sports</td>\n",
       "      <td>Electronic Arts</td>\n",
       "      <td>4.26</td>\n",
       "      <td>0.26</td>\n",
       "      <td>0.01</td>\n",
       "      <td>0.71</td>\n",
       "      <td>5.23</td>\n",
       "    </tr>\n",
       "    <tr>\n",
       "      <th>377</th>\n",
       "      <td>378</td>\n",
       "      <td>FIFA Soccer 2004</td>\n",
       "      <td>PS2</td>\n",
       "      <td>NaN</td>\n",
       "      <td>Sports</td>\n",
       "      <td>Electronic Arts</td>\n",
       "      <td>0.59</td>\n",
       "      <td>2.36</td>\n",
       "      <td>0.04</td>\n",
       "      <td>0.51</td>\n",
       "      <td>3.49</td>\n",
       "    </tr>\n",
       "    <tr>\n",
       "      <th>431</th>\n",
       "      <td>432</td>\n",
       "      <td>LEGO Batman: The Videogame</td>\n",
       "      <td>Wii</td>\n",
       "      <td>NaN</td>\n",
       "      <td>Action</td>\n",
       "      <td>Warner Bros. Interactive Entertainment</td>\n",
       "      <td>1.86</td>\n",
       "      <td>1.02</td>\n",
       "      <td>0.00</td>\n",
       "      <td>0.29</td>\n",
       "      <td>3.17</td>\n",
       "    </tr>\n",
       "    <tr>\n",
       "      <th>470</th>\n",
       "      <td>471</td>\n",
       "      <td>wwe Smackdown vs. Raw 2006</td>\n",
       "      <td>PS2</td>\n",
       "      <td>NaN</td>\n",
       "      <td>Fighting</td>\n",
       "      <td>NaN</td>\n",
       "      <td>1.57</td>\n",
       "      <td>1.02</td>\n",
       "      <td>0.00</td>\n",
       "      <td>0.41</td>\n",
       "      <td>3.00</td>\n",
       "    </tr>\n",
       "    <tr>\n",
       "      <th>607</th>\n",
       "      <td>608</td>\n",
       "      <td>Space Invaders</td>\n",
       "      <td>2600</td>\n",
       "      <td>NaN</td>\n",
       "      <td>Shooter</td>\n",
       "      <td>Atari</td>\n",
       "      <td>2.36</td>\n",
       "      <td>0.14</td>\n",
       "      <td>0.00</td>\n",
       "      <td>0.03</td>\n",
       "      <td>2.53</td>\n",
       "    </tr>\n",
       "    <tr>\n",
       "      <th>...</th>\n",
       "      <td>...</td>\n",
       "      <td>...</td>\n",
       "      <td>...</td>\n",
       "      <td>...</td>\n",
       "      <td>...</td>\n",
       "      <td>...</td>\n",
       "      <td>...</td>\n",
       "      <td>...</td>\n",
       "      <td>...</td>\n",
       "      <td>...</td>\n",
       "      <td>...</td>\n",
       "    </tr>\n",
       "    <tr>\n",
       "      <th>16427</th>\n",
       "      <td>16430</td>\n",
       "      <td>Virtua Quest</td>\n",
       "      <td>GC</td>\n",
       "      <td>NaN</td>\n",
       "      <td>Role-Playing</td>\n",
       "      <td>Unknown</td>\n",
       "      <td>0.01</td>\n",
       "      <td>0.00</td>\n",
       "      <td>0.00</td>\n",
       "      <td>0.00</td>\n",
       "      <td>0.01</td>\n",
       "    </tr>\n",
       "    <tr>\n",
       "      <th>16493</th>\n",
       "      <td>16496</td>\n",
       "      <td>The Smurfs</td>\n",
       "      <td>3DS</td>\n",
       "      <td>NaN</td>\n",
       "      <td>Action</td>\n",
       "      <td>Unknown</td>\n",
       "      <td>0.00</td>\n",
       "      <td>0.01</td>\n",
       "      <td>0.00</td>\n",
       "      <td>0.00</td>\n",
       "      <td>0.01</td>\n",
       "    </tr>\n",
       "    <tr>\n",
       "      <th>16494</th>\n",
       "      <td>16497</td>\n",
       "      <td>Legends of Oz: Dorothy's Return</td>\n",
       "      <td>3DS</td>\n",
       "      <td>2014.0</td>\n",
       "      <td>Puzzle</td>\n",
       "      <td>NaN</td>\n",
       "      <td>0.00</td>\n",
       "      <td>0.01</td>\n",
       "      <td>0.00</td>\n",
       "      <td>0.00</td>\n",
       "      <td>0.01</td>\n",
       "    </tr>\n",
       "    <tr>\n",
       "      <th>16543</th>\n",
       "      <td>16546</td>\n",
       "      <td>Driving Simulator 2011</td>\n",
       "      <td>PC</td>\n",
       "      <td>2011.0</td>\n",
       "      <td>Racing</td>\n",
       "      <td>NaN</td>\n",
       "      <td>0.00</td>\n",
       "      <td>0.01</td>\n",
       "      <td>0.00</td>\n",
       "      <td>0.00</td>\n",
       "      <td>0.01</td>\n",
       "    </tr>\n",
       "    <tr>\n",
       "      <th>16553</th>\n",
       "      <td>16556</td>\n",
       "      <td>Bound By Flame</td>\n",
       "      <td>X360</td>\n",
       "      <td>2014.0</td>\n",
       "      <td>Role-Playing</td>\n",
       "      <td>NaN</td>\n",
       "      <td>0.00</td>\n",
       "      <td>0.01</td>\n",
       "      <td>0.00</td>\n",
       "      <td>0.00</td>\n",
       "      <td>0.01</td>\n",
       "    </tr>\n",
       "  </tbody>\n",
       "</table>\n",
       "<p>307 rows × 11 columns</p>\n",
       "</div>"
      ],
      "text/plain": [
       "        Rank                             Name Platform    Year         Genre  \\\n",
       "179      180                  Madden NFL 2004      PS2     NaN        Sports   \n",
       "377      378                 FIFA Soccer 2004      PS2     NaN        Sports   \n",
       "431      432       LEGO Batman: The Videogame      Wii     NaN        Action   \n",
       "470      471       wwe Smackdown vs. Raw 2006      PS2     NaN      Fighting   \n",
       "607      608                   Space Invaders     2600     NaN       Shooter   \n",
       "...      ...                              ...      ...     ...           ...   \n",
       "16427  16430                     Virtua Quest       GC     NaN  Role-Playing   \n",
       "16493  16496                       The Smurfs      3DS     NaN        Action   \n",
       "16494  16497  Legends of Oz: Dorothy's Return      3DS  2014.0        Puzzle   \n",
       "16543  16546           Driving Simulator 2011       PC  2011.0        Racing   \n",
       "16553  16556                   Bound By Flame     X360  2014.0  Role-Playing   \n",
       "\n",
       "                                    Publisher  NA_Sales  EU_Sales  JP_Sales  \\\n",
       "179                           Electronic Arts      4.26      0.26      0.01   \n",
       "377                           Electronic Arts      0.59      2.36      0.04   \n",
       "431    Warner Bros. Interactive Entertainment      1.86      1.02      0.00   \n",
       "470                                       NaN      1.57      1.02      0.00   \n",
       "607                                     Atari      2.36      0.14      0.00   \n",
       "...                                       ...       ...       ...       ...   \n",
       "16427                                 Unknown      0.01      0.00      0.00   \n",
       "16493                                 Unknown      0.00      0.01      0.00   \n",
       "16494                                     NaN      0.00      0.01      0.00   \n",
       "16543                                     NaN      0.00      0.01      0.00   \n",
       "16553                                     NaN      0.00      0.01      0.00   \n",
       "\n",
       "       Other_Sales  Global_Sales  \n",
       "179           0.71          5.23  \n",
       "377           0.51          3.49  \n",
       "431           0.29          3.17  \n",
       "470           0.41          3.00  \n",
       "607           0.03          2.53  \n",
       "...            ...           ...  \n",
       "16427         0.00          0.01  \n",
       "16493         0.00          0.01  \n",
       "16494         0.00          0.01  \n",
       "16543         0.00          0.01  \n",
       "16553         0.00          0.01  \n",
       "\n",
       "[307 rows x 11 columns]"
      ]
     },
     "execution_count": 114,
     "metadata": {},
     "output_type": "execute_result"
    }
   ],
   "source": [
    "video_games[video_games.isnull().any(axis=1)]"
   ]
  },
  {
   "cell_type": "code",
   "execution_count": 115,
   "metadata": {},
   "outputs": [
    {
     "data": {
      "text/html": [
       "<div>\n",
       "<style scoped>\n",
       "    .dataframe tbody tr th:only-of-type {\n",
       "        vertical-align: middle;\n",
       "    }\n",
       "\n",
       "    .dataframe tbody tr th {\n",
       "        vertical-align: top;\n",
       "    }\n",
       "\n",
       "    .dataframe thead th {\n",
       "        text-align: right;\n",
       "    }\n",
       "</style>\n",
       "<table border=\"1\" class=\"dataframe\">\n",
       "  <thead>\n",
       "    <tr style=\"text-align: right;\">\n",
       "      <th></th>\n",
       "      <th>Rank</th>\n",
       "      <th>Name</th>\n",
       "      <th>Platform</th>\n",
       "      <th>Year</th>\n",
       "      <th>Genre</th>\n",
       "      <th>Publisher</th>\n",
       "      <th>NA_Sales</th>\n",
       "      <th>EU_Sales</th>\n",
       "      <th>JP_Sales</th>\n",
       "      <th>Other_Sales</th>\n",
       "      <th>Global_Sales</th>\n",
       "    </tr>\n",
       "  </thead>\n",
       "  <tbody>\n",
       "    <tr>\n",
       "      <th>0</th>\n",
       "      <td>1</td>\n",
       "      <td>Wii Sports</td>\n",
       "      <td>Wii</td>\n",
       "      <td>2006.0</td>\n",
       "      <td>Sports</td>\n",
       "      <td>Nintendo</td>\n",
       "      <td>41.49</td>\n",
       "      <td>29.02</td>\n",
       "      <td>3.77</td>\n",
       "      <td>8.46</td>\n",
       "      <td>82.74</td>\n",
       "    </tr>\n",
       "    <tr>\n",
       "      <th>1</th>\n",
       "      <td>2</td>\n",
       "      <td>Super Mario Bros.</td>\n",
       "      <td>NES</td>\n",
       "      <td>1985.0</td>\n",
       "      <td>Platform</td>\n",
       "      <td>Nintendo</td>\n",
       "      <td>29.08</td>\n",
       "      <td>3.58</td>\n",
       "      <td>6.81</td>\n",
       "      <td>0.77</td>\n",
       "      <td>40.24</td>\n",
       "    </tr>\n",
       "    <tr>\n",
       "      <th>2</th>\n",
       "      <td>3</td>\n",
       "      <td>Mario Kart Wii</td>\n",
       "      <td>Wii</td>\n",
       "      <td>2008.0</td>\n",
       "      <td>Racing</td>\n",
       "      <td>Nintendo</td>\n",
       "      <td>15.85</td>\n",
       "      <td>12.88</td>\n",
       "      <td>3.79</td>\n",
       "      <td>3.31</td>\n",
       "      <td>35.82</td>\n",
       "    </tr>\n",
       "    <tr>\n",
       "      <th>3</th>\n",
       "      <td>4</td>\n",
       "      <td>Wii Sports Resort</td>\n",
       "      <td>Wii</td>\n",
       "      <td>2009.0</td>\n",
       "      <td>Sports</td>\n",
       "      <td>Nintendo</td>\n",
       "      <td>15.75</td>\n",
       "      <td>11.01</td>\n",
       "      <td>3.28</td>\n",
       "      <td>2.96</td>\n",
       "      <td>33.00</td>\n",
       "    </tr>\n",
       "    <tr>\n",
       "      <th>4</th>\n",
       "      <td>5</td>\n",
       "      <td>Pokemon Red/Pokemon Blue</td>\n",
       "      <td>GB</td>\n",
       "      <td>1996.0</td>\n",
       "      <td>Role-Playing</td>\n",
       "      <td>Nintendo</td>\n",
       "      <td>11.27</td>\n",
       "      <td>8.89</td>\n",
       "      <td>10.22</td>\n",
       "      <td>1.00</td>\n",
       "      <td>31.37</td>\n",
       "    </tr>\n",
       "    <tr>\n",
       "      <th>...</th>\n",
       "      <td>...</td>\n",
       "      <td>...</td>\n",
       "      <td>...</td>\n",
       "      <td>...</td>\n",
       "      <td>...</td>\n",
       "      <td>...</td>\n",
       "      <td>...</td>\n",
       "      <td>...</td>\n",
       "      <td>...</td>\n",
       "      <td>...</td>\n",
       "      <td>...</td>\n",
       "    </tr>\n",
       "    <tr>\n",
       "      <th>16593</th>\n",
       "      <td>16596</td>\n",
       "      <td>Woody Woodpecker in Crazy Castle 5</td>\n",
       "      <td>GBA</td>\n",
       "      <td>2002.0</td>\n",
       "      <td>Platform</td>\n",
       "      <td>Kemco</td>\n",
       "      <td>0.01</td>\n",
       "      <td>0.00</td>\n",
       "      <td>0.00</td>\n",
       "      <td>0.00</td>\n",
       "      <td>0.01</td>\n",
       "    </tr>\n",
       "    <tr>\n",
       "      <th>16594</th>\n",
       "      <td>16597</td>\n",
       "      <td>Men in Black II: Alien Escape</td>\n",
       "      <td>GC</td>\n",
       "      <td>2003.0</td>\n",
       "      <td>Shooter</td>\n",
       "      <td>Infogrames</td>\n",
       "      <td>0.01</td>\n",
       "      <td>0.00</td>\n",
       "      <td>0.00</td>\n",
       "      <td>0.00</td>\n",
       "      <td>0.01</td>\n",
       "    </tr>\n",
       "    <tr>\n",
       "      <th>16595</th>\n",
       "      <td>16598</td>\n",
       "      <td>SCORE International Baja 1000: The Official Game</td>\n",
       "      <td>PS2</td>\n",
       "      <td>2008.0</td>\n",
       "      <td>Racing</td>\n",
       "      <td>Activision</td>\n",
       "      <td>0.00</td>\n",
       "      <td>0.00</td>\n",
       "      <td>0.00</td>\n",
       "      <td>0.00</td>\n",
       "      <td>0.01</td>\n",
       "    </tr>\n",
       "    <tr>\n",
       "      <th>16596</th>\n",
       "      <td>16599</td>\n",
       "      <td>Know How 2</td>\n",
       "      <td>DS</td>\n",
       "      <td>2010.0</td>\n",
       "      <td>Puzzle</td>\n",
       "      <td>7G//AMES</td>\n",
       "      <td>0.00</td>\n",
       "      <td>0.01</td>\n",
       "      <td>0.00</td>\n",
       "      <td>0.00</td>\n",
       "      <td>0.01</td>\n",
       "    </tr>\n",
       "    <tr>\n",
       "      <th>16597</th>\n",
       "      <td>16600</td>\n",
       "      <td>Spirits &amp; Spells</td>\n",
       "      <td>GBA</td>\n",
       "      <td>2003.0</td>\n",
       "      <td>Platform</td>\n",
       "      <td>Wanadoo</td>\n",
       "      <td>0.01</td>\n",
       "      <td>0.00</td>\n",
       "      <td>0.00</td>\n",
       "      <td>0.00</td>\n",
       "      <td>0.01</td>\n",
       "    </tr>\n",
       "  </tbody>\n",
       "</table>\n",
       "<p>16291 rows × 11 columns</p>\n",
       "</div>"
      ],
      "text/plain": [
       "        Rank                                              Name Platform  \\\n",
       "0          1                                        Wii Sports      Wii   \n",
       "1          2                                 Super Mario Bros.      NES   \n",
       "2          3                                    Mario Kart Wii      Wii   \n",
       "3          4                                 Wii Sports Resort      Wii   \n",
       "4          5                          Pokemon Red/Pokemon Blue       GB   \n",
       "...      ...                                               ...      ...   \n",
       "16593  16596                Woody Woodpecker in Crazy Castle 5      GBA   \n",
       "16594  16597                     Men in Black II: Alien Escape       GC   \n",
       "16595  16598  SCORE International Baja 1000: The Official Game      PS2   \n",
       "16596  16599                                        Know How 2       DS   \n",
       "16597  16600                                  Spirits & Spells      GBA   \n",
       "\n",
       "         Year         Genre   Publisher  NA_Sales  EU_Sales  JP_Sales  \\\n",
       "0      2006.0        Sports    Nintendo     41.49     29.02      3.77   \n",
       "1      1985.0      Platform    Nintendo     29.08      3.58      6.81   \n",
       "2      2008.0        Racing    Nintendo     15.85     12.88      3.79   \n",
       "3      2009.0        Sports    Nintendo     15.75     11.01      3.28   \n",
       "4      1996.0  Role-Playing    Nintendo     11.27      8.89     10.22   \n",
       "...       ...           ...         ...       ...       ...       ...   \n",
       "16593  2002.0      Platform       Kemco      0.01      0.00      0.00   \n",
       "16594  2003.0       Shooter  Infogrames      0.01      0.00      0.00   \n",
       "16595  2008.0        Racing  Activision      0.00      0.00      0.00   \n",
       "16596  2010.0        Puzzle    7G//AMES      0.00      0.01      0.00   \n",
       "16597  2003.0      Platform     Wanadoo      0.01      0.00      0.00   \n",
       "\n",
       "       Other_Sales  Global_Sales  \n",
       "0             8.46         82.74  \n",
       "1             0.77         40.24  \n",
       "2             3.31         35.82  \n",
       "3             2.96         33.00  \n",
       "4             1.00         31.37  \n",
       "...            ...           ...  \n",
       "16593         0.00          0.01  \n",
       "16594         0.00          0.01  \n",
       "16595         0.00          0.01  \n",
       "16596         0.00          0.01  \n",
       "16597         0.00          0.01  \n",
       "\n",
       "[16291 rows x 11 columns]"
      ]
     },
     "execution_count": 115,
     "metadata": {},
     "output_type": "execute_result"
    }
   ],
   "source": [
    "df = video_games.dropna()\n",
    "df"
   ]
  },
  {
   "cell_type": "code",
   "execution_count": 117,
   "metadata": {},
   "outputs": [
    {
     "data": {
      "image/png": "[encoded data removed]",
      "text/plain": [
       "<Figure size 1260x1260 with 56 Axes>"
      ]
     },
     "metadata": {
      "needs_background": "light"
     },
     "output_type": "display_data"
    }
   ],
   "source": [
    "sns.pairplot(df)\n",
    "plt.show()"
   ]
  },
  {
   "cell_type": "code",
   "execution_count": 118,
   "metadata": {},
   "outputs": [
    {
     "data": {
      "text/html": [
       "<div>\n",
       "<style scoped>\n",
       "    .dataframe tbody tr th:only-of-type {\n",
       "        vertical-align: middle;\n",
       "    }\n",
       "\n",
       "    .dataframe tbody tr th {\n",
       "        vertical-align: top;\n",
       "    }\n",
       "\n",
       "    .dataframe thead th {\n",
       "        text-align: right;\n",
       "    }\n",
       "</style>\n",
       "<table border=\"1\" class=\"dataframe\">\n",
       "  <thead>\n",
       "    <tr style=\"text-align: right;\">\n",
       "      <th></th>\n",
       "      <th>Rank</th>\n",
       "      <th>Year</th>\n",
       "      <th>NA_Sales</th>\n",
       "      <th>EU_Sales</th>\n",
       "      <th>JP_Sales</th>\n",
       "      <th>Other_Sales</th>\n",
       "      <th>Global_Sales</th>\n",
       "    </tr>\n",
       "  </thead>\n",
       "  <tbody>\n",
       "    <tr>\n",
       "      <th>Rank</th>\n",
       "      <td>1.000000</td>\n",
       "      <td>0.178027</td>\n",
       "      <td>-0.400315</td>\n",
       "      <td>-0.379137</td>\n",
       "      <td>-0.269323</td>\n",
       "      <td>-0.332735</td>\n",
       "      <td>-0.426975</td>\n",
       "    </tr>\n",
       "    <tr>\n",
       "      <th>Year</th>\n",
       "      <td>0.178027</td>\n",
       "      <td>1.000000</td>\n",
       "      <td>-0.091285</td>\n",
       "      <td>0.006108</td>\n",
       "      <td>-0.169387</td>\n",
       "      <td>0.041128</td>\n",
       "      <td>-0.074647</td>\n",
       "    </tr>\n",
       "    <tr>\n",
       "      <th>NA_Sales</th>\n",
       "      <td>-0.400315</td>\n",
       "      <td>-0.091285</td>\n",
       "      <td>1.000000</td>\n",
       "      <td>0.768923</td>\n",
       "      <td>0.451283</td>\n",
       "      <td>0.634518</td>\n",
       "      <td>0.941269</td>\n",
       "    </tr>\n",
       "    <tr>\n",
       "      <th>EU_Sales</th>\n",
       "      <td>-0.379137</td>\n",
       "      <td>0.006108</td>\n",
       "      <td>0.768923</td>\n",
       "      <td>1.000000</td>\n",
       "      <td>0.436379</td>\n",
       "      <td>0.726256</td>\n",
       "      <td>0.903264</td>\n",
       "    </tr>\n",
       "    <tr>\n",
       "      <th>JP_Sales</th>\n",
       "      <td>-0.269323</td>\n",
       "      <td>-0.169387</td>\n",
       "      <td>0.451283</td>\n",
       "      <td>0.436379</td>\n",
       "      <td>1.000000</td>\n",
       "      <td>0.290559</td>\n",
       "      <td>0.612774</td>\n",
       "    </tr>\n",
       "    <tr>\n",
       "      <th>Other_Sales</th>\n",
       "      <td>-0.332735</td>\n",
       "      <td>0.041128</td>\n",
       "      <td>0.634518</td>\n",
       "      <td>0.726256</td>\n",
       "      <td>0.290559</td>\n",
       "      <td>1.000000</td>\n",
       "      <td>0.747964</td>\n",
       "    </tr>\n",
       "    <tr>\n",
       "      <th>Global_Sales</th>\n",
       "      <td>-0.426975</td>\n",
       "      <td>-0.074647</td>\n",
       "      <td>0.941269</td>\n",
       "      <td>0.903264</td>\n",
       "      <td>0.612774</td>\n",
       "      <td>0.747964</td>\n",
       "      <td>1.000000</td>\n",
       "    </tr>\n",
       "  </tbody>\n",
       "</table>\n",
       "</div>"
      ],
      "text/plain": [
       "                  Rank      Year  NA_Sales  EU_Sales  JP_Sales  Other_Sales  \\\n",
       "Rank          1.000000  0.178027 -0.400315 -0.379137 -0.269323    -0.332735   \n",
       "Year          0.178027  1.000000 -0.091285  0.006108 -0.169387     0.041128   \n",
       "NA_Sales     -0.400315 -0.091285  1.000000  0.768923  0.451283     0.634518   \n",
       "EU_Sales     -0.379137  0.006108  0.768923  1.000000  0.436379     0.726256   \n",
       "JP_Sales     -0.269323 -0.169387  0.451283  0.436379  1.000000     0.290559   \n",
       "Other_Sales  -0.332735  0.041128  0.634518  0.726256  0.290559     1.000000   \n",
       "Global_Sales -0.426975 -0.074647  0.941269  0.903264  0.612774     0.747964   \n",
       "\n",
       "              Global_Sales  \n",
       "Rank             -0.426975  \n",
       "Year             -0.074647  \n",
       "NA_Sales          0.941269  \n",
       "EU_Sales          0.903264  \n",
       "JP_Sales          0.612774  \n",
       "Other_Sales       0.747964  \n",
       "Global_Sales      1.000000  "
      ]
     },
     "execution_count": 118,
     "metadata": {},
     "output_type": "execute_result"
    }
   ],
   "source": [
    "df.corr()"
   ]
  },
  {
   "cell_type": "code",
   "execution_count": 119,
   "metadata": {
    "scrolled": true
   },
   "outputs": [
    {
     "data": {
      "text/html": [
       "<div>\n",
       "<style scoped>\n",
       "    .dataframe tbody tr th:only-of-type {\n",
       "        vertical-align: middle;\n",
       "    }\n",
       "\n",
       "    .dataframe tbody tr th {\n",
       "        vertical-align: top;\n",
       "    }\n",
       "\n",
       "    .dataframe thead th {\n",
       "        text-align: right;\n",
       "    }\n",
       "</style>\n",
       "<table border=\"1\" class=\"dataframe\">\n",
       "  <thead>\n",
       "    <tr style=\"text-align: right;\">\n",
       "      <th></th>\n",
       "      <th>Rank</th>\n",
       "      <th>Year</th>\n",
       "      <th>NA_Sales</th>\n",
       "      <th>EU_Sales</th>\n",
       "      <th>JP_Sales</th>\n",
       "      <th>Other_Sales</th>\n",
       "      <th>Global_Sales</th>\n",
       "    </tr>\n",
       "  </thead>\n",
       "  <tbody>\n",
       "    <tr>\n",
       "      <th>Rank</th>\n",
       "      <td>2.296954e+07</td>\n",
       "      <td>4976.349611</td>\n",
       "      <td>-1577.896037</td>\n",
       "      <td>-925.441621</td>\n",
       "      <td>-402.564992</td>\n",
       "      <td>-303.121864</td>\n",
       "      <td>-3207.324490</td>\n",
       "    </tr>\n",
       "    <tr>\n",
       "      <th>Year</th>\n",
       "      <td>4.976350e+03</td>\n",
       "      <td>34.017032</td>\n",
       "      <td>-0.437872</td>\n",
       "      <td>0.018144</td>\n",
       "      <td>-0.308116</td>\n",
       "      <td>0.045597</td>\n",
       "      <td>-0.682377</td>\n",
       "    </tr>\n",
       "    <tr>\n",
       "      <th>NA_Sales</th>\n",
       "      <td>-1.577896e+03</td>\n",
       "      <td>-0.437872</td>\n",
       "      <td>0.676395</td>\n",
       "      <td>0.322077</td>\n",
       "      <td>0.115754</td>\n",
       "      <td>0.099194</td>\n",
       "      <td>1.213328</td>\n",
       "    </tr>\n",
       "    <tr>\n",
       "      <th>EU_Sales</th>\n",
       "      <td>-9.254416e+02</td>\n",
       "      <td>0.018144</td>\n",
       "      <td>0.322077</td>\n",
       "      <td>0.259389</td>\n",
       "      <td>0.069315</td>\n",
       "      <td>0.070309</td>\n",
       "      <td>0.721033</td>\n",
       "    </tr>\n",
       "    <tr>\n",
       "      <th>JP_Sales</th>\n",
       "      <td>-4.025650e+02</td>\n",
       "      <td>-0.308116</td>\n",
       "      <td>0.115754</td>\n",
       "      <td>0.069315</td>\n",
       "      <td>0.097269</td>\n",
       "      <td>0.017225</td>\n",
       "      <td>0.299538</td>\n",
       "    </tr>\n",
       "    <tr>\n",
       "      <th>Other_Sales</th>\n",
       "      <td>-3.031219e+02</td>\n",
       "      <td>0.045597</td>\n",
       "      <td>0.099194</td>\n",
       "      <td>0.070309</td>\n",
       "      <td>0.017225</td>\n",
       "      <td>0.036131</td>\n",
       "      <td>0.222837</td>\n",
       "    </tr>\n",
       "    <tr>\n",
       "      <th>Global_Sales</th>\n",
       "      <td>-3.207324e+03</td>\n",
       "      <td>-0.682377</td>\n",
       "      <td>1.213328</td>\n",
       "      <td>0.721033</td>\n",
       "      <td>0.299538</td>\n",
       "      <td>0.222837</td>\n",
       "      <td>2.456569</td>\n",
       "    </tr>\n",
       "  </tbody>\n",
       "</table>\n",
       "</div>"
      ],
      "text/plain": [
       "                      Rank         Year     NA_Sales    EU_Sales    JP_Sales  \\\n",
       "Rank          2.296954e+07  4976.349611 -1577.896037 -925.441621 -402.564992   \n",
       "Year          4.976350e+03    34.017032    -0.437872    0.018144   -0.308116   \n",
       "NA_Sales     -1.577896e+03    -0.437872     0.676395    0.322077    0.115754   \n",
       "EU_Sales     -9.254416e+02     0.018144     0.322077    0.259389    0.069315   \n",
       "JP_Sales     -4.025650e+02    -0.308116     0.115754    0.069315    0.097269   \n",
       "Other_Sales  -3.031219e+02     0.045597     0.099194    0.070309    0.017225   \n",
       "Global_Sales -3.207324e+03    -0.682377     1.213328    0.721033    0.299538   \n",
       "\n",
       "              Other_Sales  Global_Sales  \n",
       "Rank          -303.121864  -3207.324490  \n",
       "Year             0.045597     -0.682377  \n",
       "NA_Sales         0.099194      1.213328  \n",
       "EU_Sales         0.070309      0.721033  \n",
       "JP_Sales         0.017225      0.299538  \n",
       "Other_Sales      0.036131      0.222837  \n",
       "Global_Sales     0.222837      2.456569  "
      ]
     },
     "execution_count": 119,
     "metadata": {},
     "output_type": "execute_result"
    }
   ],
   "source": [
    "df.cov()"
   ]
  },
  {
   "cell_type": "code",
   "execution_count": null,
   "metadata": {},
   "outputs": [],
   "source": [
    "plt.figure(figsize=(10,10))\n",
    "sns.jointplot(x=df[\"Genre\"].values, y=df[\"Global_Sales\"].values, height=10)\n",
    "plt.ylabel(\"Global_Sales\")\n",
    "plt.xlabel(\"Genre\")\n",
    "plt.show()"
   ]
  },
  {
   "cell_type": "code",
   "execution_count": null,
   "metadata": {},
   "outputs": [],
   "source": [
    "X = df[\"Genre\"]\n",
    "Y = df[\"Global_Sales\"]"
   ]
  },
  {
   "cell_type": "code",
   "execution_count": null,
   "metadata": {},
   "outputs": [],
   "source": [
    "from sklearn.model_selection import train_test_split\n",
    "\n",
    "X_train, X_test, y_train, y_test = train_test_split(X,Y, test_size=0.2)\n"
   ]
  },
  {
   "cell_type": "code",
   "execution_count": null,
   "metadata": {},
   "outputs": [],
   "source": [
    "from sklearn.linear_model import LinearRegression\n",
    "\n",
    "reg = LinearRegression()\n",
    "\n",
    "reg.fit(X_train.values.reshape(-1,1), y_train.values.reshape(-1,1))"
   ]
  },
  {
   "cell_type": "code",
   "execution_count": 121,
   "metadata": {},
   "outputs": [],
   "source": [
    "score_df = reg.score(X_test.values.reshape(-1,1), y_test.values.reshape(-1,1))"
   ]
  },
  {
   "cell_type": "code",
   "execution_count": 122,
   "metadata": {},
   "outputs": [
    {
     "name": "stdout",
     "output_type": "stream",
     "text": [
      "0.9904072077370212\n"
     ]
    }
   ],
   "source": [
    "print(score_df)"
   ]
  }
 ],
 "metadata": {
  "kernelspec": {
   "display_name": "Python 3",
   "language": "python",
   "name": "python3"
  },
  "language_info": {
   "codemirror_mode": {
    "name": "ipython",
    "version": 3
   },
   "file_extension": ".py",
   "mimetype": "text/x-python",
   "name": "python",
   "nbconvert_exporter": "python",
   "pygments_lexer": "ipython3",
   "version": "3.8.3"
  }
 },
 "nbformat": 4,
 "nbformat_minor": 5
}
